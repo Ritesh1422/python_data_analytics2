{
 "cells": [
  {
   "cell_type": "code",
   "execution_count": null,
   "metadata": {},
   "outputs": [],
   "source": []
  },
  {
   "cell_type": "markdown",
   "metadata": {},
   "source": [
    "indexing\n"
   ]
  },
  {
   "cell_type": "markdown",
   "metadata": {},
   "source": []
  },
  {
   "cell_type": "code",
   "execution_count": 1,
   "metadata": {},
   "outputs": [
    {
     "name": "stdout",
     "output_type": "stream",
     "text": [
      "vijay\n",
      "vijay\n",
      "deenanath\n",
      "han\n",
      "deenanath\n",
      "deenanath\n",
      "htananeed\n",
      "nhachaaedyjv\n",
      "jydeaahcahn\n"
     ]
    }
   ],
   "source": [
    "name=\"vijay deenanath chauhan\"\n",
    "print(name[0:5])\n",
    "print(name[:5])\n",
    "print(name[6:15])\n",
    "print(name[-3:])\n",
    "print(name[6:-8])\n",
    "print(name[6:6+9])\n",
    "print(name[-9:5:-1])\n",
    "print(name[::-2])\n",
    "print(name[2::2])"
   ]
  },
  {
   "cell_type": "code",
   "execution_count": 2,
   "metadata": {},
   "outputs": [
    {
     "name": "stdout",
     "output_type": "stream",
     "text": [
      "william\n",
      "shake\n",
      "peare\n",
      "liam\n",
      "are\n"
     ]
    }
   ],
   "source": [
    "name=\"william shakespeare\"\n",
    "print(name[:7])\n",
    "print(name[8:13])\n",
    "print(name[14:])\n",
    "print(name[3:7])\n",
    "print(name[-3:])"
   ]
  },
  {
   "cell_type": "markdown",
   "metadata": {},
   "source": [
    "**methods in string\n",
    "-formatting\n",
    "    -upper()\n",
    "    -lower()\n",
    "    -capitalize()\n",
    "-validation\n",
    "    -isupper()\n",
    "    -islower()\n",
    "    -endswith()\n",
    "-utility\n",
    "    -replace()\n",
    "    -find()\n",
    "    -count()    "
   ]
  },
  {
   "cell_type": "code",
   "execution_count": 3,
   "metadata": {},
   "outputs": [
    {
     "data": {
      "text/plain": [
       "str"
      ]
     },
     "execution_count": 3,
     "metadata": {},
     "output_type": "execute_result"
    }
   ],
   "source": [
    "type('18')"
   ]
  },
  {
   "cell_type": "code",
   "execution_count": 4,
   "metadata": {},
   "outputs": [
    {
     "data": {
      "text/plain": [
       "'WILLIAM SHAKESPEARE'"
      ]
     },
     "execution_count": 4,
     "metadata": {},
     "output_type": "execute_result"
    }
   ],
   "source": [
    "name.upper()\n"
   ]
  },
  {
   "cell_type": "code",
   "execution_count": 5,
   "metadata": {},
   "outputs": [
    {
     "name": "stdout",
     "output_type": "stream",
     "text": [
      "vijay deenanath chauhan\n",
      "VIJAY DEENANATH CHAUHAN\n",
      "Vijay deenanath chauhan\n",
      "Vijay Deenanath Chauhan\n",
      "VIJAY dEENANATH chauhan\n",
      "vijay deenanath chauhan\n"
     ]
    }
   ],
   "source": [
    "name=\"vijay Deenanath CHAUHAN\"\n",
    "print(name.lower())\n",
    "print(name.upper())\n",
    "print(name.capitalize())\n",
    "print(name.title())\n",
    "print(name.swapcase())\n",
    "print(name.casefold())"
   ]
  },
  {
   "cell_type": "code",
   "execution_count": 6,
   "metadata": {},
   "outputs": [
    {
     "name": "stdout",
     "output_type": "stream",
     "text": [
      "10*15.15=151.5\n",
      "10*15.15=151.5\n"
     ]
    }
   ],
   "source": [
    "x=10\n",
    "y=15.15\n",
    "z=x*y\n",
    "print(\"{}*{}={}\".format(x,y,z))\n",
    "print(f\"{x}*{y}={z}\")\n"
   ]
  },
  {
   "cell_type": "markdown",
   "metadata": {},
   "source": [
    "validation function\n"
   ]
  },
  {
   "cell_type": "code",
   "execution_count": 8,
   "metadata": {},
   "outputs": [],
   "source": [
    "#a=input(\"enter some data\")"
   ]
  },
  {
   "cell_type": "code",
   "execution_count": 3,
   "metadata": {},
   "outputs": [
    {
     "name": "stdout",
     "output_type": "stream",
     "text": [
      "enter number only\n"
     ]
    }
   ],
   "source": [
    "num=input(\"enter a number:\")\n",
    "if num.isnumeric():\n",
    "    num=int(num)\n",
    "    print(\"very good\")\n",
    "else:\n",
    "    print(\"enter number only\")    "
   ]
  },
  {
   "cell_type": "code",
   "execution_count": 5,
   "metadata": {},
   "outputs": [
    {
     "name": "stdout",
     "output_type": "stream",
     "text": [
      "very good\n"
     ]
    }
   ],
   "source": [
    "num=input(\"enter a number:\")\n",
    "if num.isnumeric():\n",
    "    num=int(num)\n",
    "    print(\"very good\")\n",
    "else:\n",
    "    print(\"enter number only\")    "
   ]
  },
  {
   "cell_type": "code",
   "execution_count": 7,
   "metadata": {},
   "outputs": [
    {
     "name": "stdout",
     "output_type": "stream",
     "text": [
      "True\n",
      "False\n",
      "False\n",
      "False\n",
      "True\n",
      "True\n",
      "False\n",
      "False\n"
     ]
    }
   ],
   "source": [
    "x=\"hello world\"\n",
    "print(x.startswith('he'))\n",
    "print(x.startswith('the'))\n",
    "print(x.startswith(' he'))\n",
    "print(x.startswith('He'))\n",
    "print(x.endswith('ld'))\n",
    "print(x.endswith('world'))\n",
    "print(x.endswith('World'))\n",
    "print(x.endswith('wd'))"
   ]
  },
  {
   "cell_type": "code",
   "execution_count": 10,
   "metadata": {},
   "outputs": [
    {
     "name": "stdout",
     "output_type": "stream",
     "text": [
      "['song1.mp3', 'song2.mp3', 'thumn.png', 'song3.mp3']\n"
     ]
    }
   ],
   "source": [
    "files=['song1.mp3','song2.mp3','thumn.png','song3.mp3']\n",
    "print(files)"
   ]
  },
  {
   "cell_type": "code",
   "execution_count": null,
   "metadata": {},
   "outputs": [],
   "source": []
  }
 ],
 "metadata": {
  "kernelspec": {
   "display_name": "base",
   "language": "python",
   "name": "python3"
  },
  "language_info": {
   "codemirror_mode": {
    "name": "ipython",
    "version": 3
   },
   "file_extension": ".py",
   "mimetype": "text/x-python",
   "name": "python",
   "nbconvert_exporter": "python",
   "pygments_lexer": "ipython3",
   "version": "3.10.9"
  }
 },
 "nbformat": 4,
 "nbformat_minor": 2
}
