{
 "cells": [
  {
   "cell_type": "markdown",
   "metadata": {},
   "source": [
    "DICTIONARY\n",
    "\n",
    ". create \n",
    ". access\n",
    ". change\n",
    ". methods"
   ]
  },
  {
   "cell_type": "markdown",
   "metadata": {},
   "source": [
    "#data=[33,100,'sunny',6,'lucknow']\n"
   ]
  },
  {
   "cell_type": "code",
   "execution_count": 5,
   "metadata": {},
   "outputs": [
    {
     "name": "stdout",
     "output_type": "stream",
     "text": [
      "{'temp': 33, 'humidity': 100, 'weather': 'sunny', 'wind': 6, 'location': 'lucknow'}\n"
     ]
    }
   ],
   "source": [
    "data ={\n",
    "    'temp':33,\n",
    "    'humidity':100,\n",
    "    'weather':'sunny',\n",
    "    'wind':6,\n",
    "    'location':'lucknow' \n",
    "     }\n",
    "print(data)"
   ]
  },
  {
   "cell_type": "code",
   "execution_count": 10,
   "metadata": {},
   "outputs": [
    {
     "name": "stdout",
     "output_type": "stream",
     "text": [
      "{'name': ['mahek', 'natasha', 'aditya', 'yusuf'], 'acadmic_level': ['betch', 'bba', 'btech', 'btech', 'bba', 'mba', 'mmaann']}\n"
     ]
    }
   ],
   "source": [
    "students={\n",
    "    'name':['mahek','natasha','aditya','yusuf'],\n",
    "    'acadmic_level':['betch','bba','btech','btech','bba','mba','mmaann']\n",
    "    }\n",
    "students\n",
    "print(students)"
   ]
  },
  {
   "cell_type": "code",
   "execution_count": 12,
   "metadata": {},
   "outputs": [
    {
     "data": {
      "text/plain": [
       "{'fruits': [{'name': 'apple', 'qty': 10},\n",
       "  {'name': 'banana', 'qty': 20},\n",
       "  {'name': 'cherry', 'qty': 30}],\n",
       " 'vegitables': [{'name': 'potato', 'qty': 100},\n",
       "  {'name': 'tomato', 'qty': 50},\n",
       "  {'name': 'onion', 'qty': 50}]}"
      ]
     },
     "execution_count": 12,
     "metadata": {},
     "output_type": "execute_result"
    }
   ],
   "source": [
    "#nested dictionary\n",
    "products={\n",
    "    'fruits':[\n",
    "        {'name':'apple','qty':10},\n",
    "        {'name':'banana','qty':20},\n",
    "        {'name':'cherry','qty':30},\n",
    "    ],\n",
    "    'vegitables':[\n",
    "        {'name':'potato','qty':100},\n",
    "        {'name':'tomato','qty':50},\n",
    "        {'name':'onion','qty':50},\n",
    "    ]\n",
    "\n",
    "}\n",
    "products"
   ]
  },
  {
   "cell_type": "code",
   "execution_count": 14,
   "metadata": {},
   "outputs": [
    {
     "data": {
      "text/plain": [
       "100"
      ]
     },
     "execution_count": 14,
     "metadata": {},
     "output_type": "execute_result"
    }
   ],
   "source": [
    "data['humidity']"
   ]
  },
  {
   "cell_type": "code",
   "execution_count": 15,
   "metadata": {},
   "outputs": [
    {
     "data": {
      "text/plain": [
       "[{'name': 'potato', 'qty': 100},\n",
       " {'name': 'tomato', 'qty': 50},\n",
       " {'name': 'onion', 'qty': 50}]"
      ]
     },
     "execution_count": 15,
     "metadata": {},
     "output_type": "execute_result"
    }
   ],
   "source": [
    "products['vegitables']"
   ]
  },
  {
   "cell_type": "code",
   "execution_count": 20,
   "metadata": {},
   "outputs": [
    {
     "name": "stdout",
     "output_type": "stream",
     "text": [
      "['mahek', 'natasha', 'aditya', 'yusuf']\n"
     ]
    },
    {
     "data": {
      "text/plain": [
       "['mahek', 'natasha', 'aditya', 'yusuf']"
      ]
     },
     "execution_count": 20,
     "metadata": {},
     "output_type": "execute_result"
    }
   ],
   "source": [
    "a=(students['name'])\n",
    "print(a)\n",
    "\n",
    "#or\n",
    "students['name']"
   ]
  },
  {
   "cell_type": "code",
   "execution_count": 22,
   "metadata": {},
   "outputs": [
    {
     "data": {
      "text/plain": [
       "['mahek', 'natasha']"
      ]
     },
     "execution_count": 22,
     "metadata": {},
     "output_type": "execute_result"
    }
   ],
   "source": [
    "students['name'][:2]"
   ]
  },
  {
   "cell_type": "code",
   "execution_count": 23,
   "metadata": {},
   "outputs": [],
   "source": [
    "data['temp']=100\n",
    "data['weather']='thunder storm'"
   ]
  },
  {
   "cell_type": "code",
   "execution_count": 24,
   "metadata": {},
   "outputs": [
    {
     "data": {
      "text/plain": [
       "{'temp': 100,\n",
       " 'humidity': 100,\n",
       " 'weather': 'thunder storm',\n",
       " 'wind': 6,\n",
       " 'location': 'lucknow'}"
      ]
     },
     "execution_count": 24,
     "metadata": {},
     "output_type": "execute_result"
    }
   ],
   "source": [
    "data"
   ]
  },
  {
   "cell_type": "code",
   "execution_count": 25,
   "metadata": {},
   "outputs": [],
   "source": [
    "data['website']='accuweather.com'"
   ]
  },
  {
   "cell_type": "code",
   "execution_count": 26,
   "metadata": {},
   "outputs": [
    {
     "data": {
      "text/plain": [
       "{'temp': 100,\n",
       " 'humidity': 100,\n",
       " 'weather': 'thunder storm',\n",
       " 'wind': 6,\n",
       " 'location': 'lucknow',\n",
       " 'website': 'accuweather.com'}"
      ]
     },
     "execution_count": 26,
     "metadata": {},
     "output_type": "execute_result"
    }
   ],
   "source": [
    "data"
   ]
  },
  {
   "cell_type": "code",
   "execution_count": 27,
   "metadata": {},
   "outputs": [],
   "source": [
    "students['name'].append('rohan')\n",
    "students['acadmic_level'].append('12th')"
   ]
  },
  {
   "cell_type": "code",
   "execution_count": 28,
   "metadata": {},
   "outputs": [
    {
     "data": {
      "text/plain": [
       "{'name': ['mahek', 'natasha', 'aditya', 'yusuf', 'rohan'],\n",
       " 'acadmic_level': ['betch',\n",
       "  'bba',\n",
       "  'btech',\n",
       "  'btech',\n",
       "  'bba',\n",
       "  'mba',\n",
       "  'mmaann',\n",
       "  '12th']}"
      ]
     },
     "execution_count": 28,
     "metadata": {},
     "output_type": "execute_result"
    }
   ],
   "source": [
    "students"
   ]
  },
  {
   "cell_type": "code",
   "execution_count": 30,
   "metadata": {},
   "outputs": [],
   "source": [
    "orange={'name':'orange','qty':155}\n",
    "products['fruits'].append(orange)"
   ]
  },
  {
   "cell_type": "code",
   "execution_count": 31,
   "metadata": {},
   "outputs": [
    {
     "data": {
      "text/plain": [
       "{'fruits': [{'name': 'apple', 'qty': 10},\n",
       "  {'name': 'banana', 'qty': 20},\n",
       "  {'name': 'cherry', 'qty': 30},\n",
       "  {'name': 'orange', 'qty': 155}],\n",
       " 'vegitables': [{'name': 'potato', 'qty': 100},\n",
       "  {'name': 'tomato', 'qty': 50},\n",
       "  {'name': 'onion', 'qty': 50}]}"
      ]
     },
     "execution_count": 31,
     "metadata": {},
     "output_type": "execute_result"
    }
   ],
   "source": [
    "products"
   ]
  },
  {
   "cell_type": "markdown",
   "metadata": {},
   "source": [
    "-methods\n",
    "    -keys()\n",
    "    -values()\n",
    "    -items()\n",
    "    -get()\n",
    "    -update()\n",
    "    -pop()\n",
    "    -"
   ]
  },
  {
   "cell_type": "code",
   "execution_count": 36,
   "metadata": {},
   "outputs": [
    {
     "data": {
      "text/plain": [
       "['temp', 'humidity', 'weather', 'wind', 'location', 'website']"
      ]
     },
     "execution_count": 36,
     "metadata": {},
     "output_type": "execute_result"
    }
   ],
   "source": [
    "list(data.keys())"
   ]
  },
  {
   "cell_type": "code",
   "execution_count": 39,
   "metadata": {},
   "outputs": [
    {
     "data": {
      "text/plain": [
       "[('temp', 100),\n",
       " ('humidity', 100),\n",
       " ('weather', 'thunder storm'),\n",
       " ('wind', 6),\n",
       " ('location', 'lucknow'),\n",
       " ('website', 'accuweather.com')]"
      ]
     },
     "execution_count": 39,
     "metadata": {},
     "output_type": "execute_result"
    }
   ],
   "source": [
    "list(data.items())"
   ]
  },
  {
   "cell_type": "code",
   "execution_count": 40,
   "metadata": {},
   "outputs": [
    {
     "name": "stdout",
     "output_type": "stream",
     "text": [
      "temp\n",
      "humidity\n",
      "weather\n",
      "wind\n",
      "location\n",
      "website\n"
     ]
    }
   ],
   "source": [
    "#simple for loop givies only keys from a dictionary\n",
    "for i in data:\n",
    "    print(i)\n"
   ]
  },
  {
   "cell_type": "code",
   "execution_count": 47,
   "metadata": {},
   "outputs": [
    {
     "name": "stdout",
     "output_type": "stream",
     "text": [
      "temp : 100\n",
      "humidity : 100\n",
      "weather : thunder storm\n",
      "wind : 6\n",
      "location : lucknow\n",
      "website : accuweather.com\n"
     ]
    }
   ],
   "source": [
    "for key,value in data.items():\n",
    "    print(key,':',value)"
   ]
  },
  {
   "cell_type": "code",
   "execution_count": 56,
   "metadata": {},
   "outputs": [],
   "source": [
    "x={'apple':'pie',\n",
    "   'orange':'jam',\n",
    "   'pineapple':'juice'\n",
    "  }"
   ]
  },
  {
   "cell_type": "code",
   "execution_count": 57,
   "metadata": {},
   "outputs": [],
   "source": [
    "y={\n",
    "    'potato':'fries',\n",
    "    'tomato':'ketchup'\n",
    "    \n",
    "}"
   ]
  },
  {
   "cell_type": "code",
   "execution_count": 58,
   "metadata": {},
   "outputs": [
    {
     "name": "stdout",
     "output_type": "stream",
     "text": [
      "{'apple': 'pie', 'orange': 'jam', 'pineapple': 'juice', 'potato': 'fries', 'tomato': 'ketchup'}\n",
      "{'potato': 'fries', 'tomato': 'ketchup'}\n"
     ]
    }
   ],
   "source": [
    "x.update(y)\n",
    "print(x)\n",
    "print(y)"
   ]
  },
  {
   "cell_type": "code",
   "execution_count": 59,
   "metadata": {},
   "outputs": [
    {
     "name": "stdout",
     "output_type": "stream",
     "text": [
      "pie\n",
      "None\n",
      "not found\n",
      "pie\n"
     ]
    }
   ],
   "source": [
    "print(x.get('apple'))#valid keys \n",
    "print(x.get('apples'))# invalid key -->none\n",
    "print(x.get('apples','not found'))# invalid key --> default key\n",
    "print(x.get('apple','not found'))# valid key --> valid key"
   ]
  },
  {
   "cell_type": "code",
   "execution_count": 60,
   "metadata": {},
   "outputs": [
    {
     "name": "stdout",
     "output_type": "stream",
     "text": [
      "juice\n"
     ]
    }
   ],
   "source": [
    "inp=input('enter item name:')\n",
    "print(x.get(inp,'not found'))"
   ]
  },
  {
   "cell_type": "code",
   "execution_count": null,
   "metadata": {},
   "outputs": [],
   "source": []
  }
 ],
 "metadata": {
  "kernelspec": {
   "display_name": "base",
   "language": "python",
   "name": "python3"
  },
  "language_info": {
   "codemirror_mode": {
    "name": "ipython",
    "version": 3
   },
   "file_extension": ".py",
   "mimetype": "text/x-python",
   "name": "python",
   "nbconvert_exporter": "python",
   "pygments_lexer": "ipython3",
   "version": "3.10.9"
  }
 },
 "nbformat": 4,
 "nbformat_minor": 2
}
