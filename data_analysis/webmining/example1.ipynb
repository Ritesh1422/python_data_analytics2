{
 "cells": [
  {
   "cell_type": "markdown",
   "metadata": {},
   "source": [
    "pip install dputils"
   ]
  },
  {
   "cell_type": "code",
   "execution_count": 4,
   "metadata": {},
   "outputs": [],
   "source": [
    "import requests\n",
    "from bs4 import BeautifulSoup\n"
   ]
  },
  {
   "cell_type": "code",
   "execution_count": 5,
   "metadata": {},
   "outputs": [],
   "source": [
    "url='https://blog.jetbrains.com/'"
   ]
  },
  {
   "cell_type": "code",
   "execution_count": 8,
   "metadata": {},
   "outputs": [
    {
     "name": "stdout",
     "output_type": "stream",
     "text": [
      "success !\n"
     ]
    }
   ],
   "source": [
    "page=requests.get(url)\n",
    "if page.status_code==200:\n",
    "    print('success !')\n",
    "elif page.status_code==404:\n",
    "    print('not found')\n",
    "elif page.status_code==503:\n",
    "    print('service unavailable')        "
   ]
  },
  {
   "cell_type": "code",
   "execution_count": 9,
   "metadata": {},
   "outputs": [],
   "source": [
    "soup=BeautifulSoup(page.content,'html.parser')\n"
   ]
  },
  {
   "cell_type": "code",
   "execution_count": 10,
   "metadata": {},
   "outputs": [
    {
     "name": "stdout",
     "output_type": "stream",
     "text": [
      "<title>JetBrains Blog: The Drive to Develop</title>\n"
     ]
    }
   ],
   "source": [
    "print(soup.title)"
   ]
  },
  {
   "cell_type": "code",
   "execution_count": 12,
   "metadata": {},
   "outputs": [
    {
     "name": "stdout",
     "output_type": "stream",
     "text": [
      "target area found\n"
     ]
    }
   ],
   "source": [
    "target=soup.find('div',class_='latest')\n",
    "if target:\n",
    "    print('target area found')\n",
    "else:\n",
    "    print('not found')\n",
    "    "
   ]
  },
  {
   "cell_type": "code",
   "execution_count": 14,
   "metadata": {},
   "outputs": [
    {
     "name": "stdout",
     "output_type": "stream",
     "text": [
      "articles found\n",
      "Total articles found: 12\n"
     ]
    }
   ],
   "source": [
    "articles=target.find_all('div',class_='col')\n",
    "if articles:\n",
    "    print(\"articles found\")\n",
    "    total=len(articles)\n",
    "    print(\"Total articles found:\",total)\n",
    "else:\n",
    "    print('articles not found')    "
   ]
  },
  {
   "cell_type": "code",
   "execution_count": 20,
   "metadata": {},
   "outputs": [
    {
     "name": "stdout",
     "output_type": "stream",
     "text": [
      "Fleet Preview Update 1.23: Updated Problems View, Rewrite Code… Feature, Download File To… Action for Remote Workspaces, and More\n",
      "Fleet 1.23 is now available!\n",
      "\n",
      "\n",
      "\n",
      "To the Fleet team, the sequence 1-2-3 symbolizes both the step-by-step growth of Fleet and the natural progression of your coding journey. Dive into this release, where (1) coding simplicity, (2) balance, and (3) creative enhancements come together to elevate your dev…\n",
      "Roman Prokashev\n",
      "Join Us for a Live Introduction to Algorithmic Challenges in Kotlin!\n",
      "Are you preparing for technical interviews, or do you simply want to master algorithms? Join us for a practical livestream where we’ll introduce the Algorithmic Challenges in Kotlin course!\n",
      "Ksenia Shneyveys\n",
      "How Gradle Uses TeamCity to Run 30,000 Green Builds Per Day\n",
      "In this case study, we’ll take a deep look into how Gradle Build Tool uses TeamCity to run tens of thousands of builds a day, while keeping the failure rate under control.\n",
      "Olga Bedrina\n",
      "JPA and React Plugins: From Buddies To Full Members of The JetBrains Family \n",
      "We are excited to announce that JPA Buddy and React Buddy have joined the JetBrains family. Positioned as powerful plugins for working with JPA data and React applications, respectively, they will offer even more functionality for IntelliJ IDEA and WebStorm developers moving forward.\n",
      "\n",
      "\n",
      "\n",
      "With this ac…\n",
      "Yuriy Artamonov\n",
      "New Livestream – Java 21: Focus on Virtual Threads and Pattern Matching\n",
      "Join us for the new IntelliJ IDEA LiveStream episode with José Paumard to learn about the Java 21 release. Date: September 28, 2023. Time: 3:00 – 4:00 pm UTC.\n",
      "Anna Rovinskaia\n",
      "Introducing the New CLion Conan Plugin\n",
      "We are thrilled to announce the launch of the new version of the Conan CLion Plugin, now compatible with the 2.X versions of Conan.\n",
      "Anastasia Kazakova\n",
      "The Power of Automation: Enhancing Your Manual Code Review Process\n",
      "Code reviews help you strategically dig deeper into your work. They enable you to identify bugs, potential fixes, vulnerabilities, and much more to ultimately improve the quality of your source code and your knowledge of it. This can have a direct impact on team learning, project build speed and qua…\n",
      "Kerry Beetge\n",
      ".NET Annotated Monthly | September 2023\n",
      "Did you know? The original usage of the term “computer” referred to people (mostly women), not machines. It’s possible that one day the word “programmer” could morph into meaning “AI”, and no longer refers to a person.\n",
      "\n",
      "\n",
      "\n",
      "\n",
      "\n",
      "\n",
      "\n",
      ".NET news\n",
      "\n",
      "\n",
      "\n",
      "\n",
      "Visual Studio for Mac Retirement Announcement 🚮\u001f…\n",
      "Rachel Appel\n",
      "JetBrains Academy’s New Projects and Topics: September Update\n",
      "The latest content update, featuring four new projects and more than 90 new topics to learn.\n",
      "Regina Muradova\n",
      "Busy Plugin Developers Newsletter – Summer 2023\n",
      "Read this blog post to discover what has come to JetBrains Marketplace this Summer!\n",
      "Elena Kerpeleva\n",
      "What’s New in Datalore Enterprise 2023.4\n",
      "Datalore Enterprise 2023.4 includes comments for notebooks and reports, a new Viewer license type, report sharing via email invitations, and other improvements\n",
      "Alina Anikina\n",
      "Java Annotated Monthly – September 2023\n",
      "The September edition of Java Annotated Monthly is here!\n",
      "\n",
      "\n",
      "\n",
      "With this month’s release of Java 21 approaching, we're excited to bring you a final sneak peek into its crucial features. But that's not all! This edition is packed with helpful articles about cutting-edge AI technologies, including update…\n",
      "Irina Maryasova\n"
     ]
    }
   ],
   "source": [
    "for item in articles:\n",
    "    try:pubdate=item.find('time')['datetime']\n",
    "    except:pubdate=None\n",
    "    title=item.find('h3').text\n",
    "    summary=item.find('p').text\n",
    "    author=item.find('span').text\n",
    "\n",
    "\n",
    "    print(title)\n",
    "    print(summary)\n",
    "    print(author)\n",
    "    #print(item.find('data time'))"
   ]
  },
  {
   "cell_type": "code",
   "execution_count": null,
   "metadata": {},
   "outputs": [],
   "source": []
  }
 ],
 "metadata": {
  "kernelspec": {
   "display_name": "base",
   "language": "python",
   "name": "python3"
  },
  "language_info": {
   "codemirror_mode": {
    "name": "ipython",
    "version": 3
   },
   "file_extension": ".py",
   "mimetype": "text/x-python",
   "name": "python",
   "nbconvert_exporter": "python",
   "pygments_lexer": "ipython3",
   "version": "3.10.9"
  },
  "orig_nbformat": 4
 },
 "nbformat": 4,
 "nbformat_minor": 2
}
