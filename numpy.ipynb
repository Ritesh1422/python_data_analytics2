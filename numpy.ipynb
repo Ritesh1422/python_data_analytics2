{
 "cells": [
  {
   "cell_type": "code",
   "execution_count": 42,
   "metadata": {},
   "outputs": [],
   "source": [
    "import numpy as np"
   ]
  },
  {
   "cell_type": "code",
   "execution_count": 43,
   "metadata": {},
   "outputs": [
    {
     "name": "stdout",
     "output_type": "stream",
     "text": [
      "[1 2 2 3 4 5]\n"
     ]
    }
   ],
   "source": [
    "#create an array from a list\n",
    "arr=np.array([1,2,2,3,4,5])\n",
    "print (arr)"
   ]
  },
  {
   "cell_type": "code",
   "execution_count": 44,
   "metadata": {},
   "outputs": [
    {
     "name": "stdout",
     "output_type": "stream",
     "text": [
      "[0 2 4 6 8]\n"
     ]
    }
   ],
   "source": [
    "#arange function\n",
    "#create an with regular spaced values\n",
    "\n",
    "a_range=np.arange(0,10,2)\n",
    "print(a_range)"
   ]
  },
  {
   "cell_type": "code",
   "execution_count": 45,
   "metadata": {},
   "outputs": [
    {
     "name": "stdout",
     "output_type": "stream",
     "text": [
      "[ 0.   2.5  5.   7.5 10. ]\n"
     ]
    }
   ],
   "source": [
    "#CREATE an array with evenly spaced values\n",
    "a_linespace=np.linspace(0,10,5)\n",
    "print(a_linespace)"
   ]
  },
  {
   "cell_type": "code",
   "execution_count": 46,
   "metadata": {},
   "outputs": [
    {
     "name": "stdout",
     "output_type": "stream",
     "text": [
      "[0.74618364 0.91257094 0.79058803 0.70780108 0.97929438]\n"
     ]
    }
   ],
   "source": [
    "\n",
    "random_uniform=np.random.rand(5)\n",
    "print(random_uniform)"
   ]
  },
  {
   "cell_type": "code",
   "execution_count": 47,
   "metadata": {},
   "outputs": [
    {
     "name": "stdout",
     "output_type": "stream",
     "text": [
      "[-0.12981749  0.26138006  0.62547577 -0.02456232 -0.81538348  0.43530036\n",
      "  0.47728517 -0.36296799 -1.00269989 -0.54493338]\n"
     ]
    }
   ],
   "source": [
    "random_normal=np.random.randn(10)\n",
    "print(random_normal)"
   ]
  },
  {
   "cell_type": "code",
   "execution_count": 50,
   "metadata": {},
   "outputs": [
    {
     "name": "stdout",
     "output_type": "stream",
     "text": [
      "(2, 3)\n",
      "6\n",
      "[[5 9 7]\n",
      " [9 5 4]]\n"
     ]
    }
   ],
   "source": [
    "arr=np.array([[5,9,7],[9,5,4]])\n",
    "shape=np.shape(arr)\n",
    "#dtype=np.dtype(arr #int64)\n",
    "size=np.size(arr)\n",
    "print(shape)\n",
    "print(size)\n",
    "print(arr)"
   ]
  },
  {
   "cell_type": "code",
   "execution_count": 51,
   "metadata": {},
   "outputs": [
    {
     "name": "stdout",
     "output_type": "stream",
     "text": [
      "1\n",
      "[5 8 7]\n"
     ]
    }
   ],
   "source": [
    "a=np.array([1,5,8,7,9,6,3,2,1])\n",
    "first_element=a[0]\n",
    "print(first_element)\n",
    "slice_array=a[1:4]\n",
    "print(slice_array)"
   ]
  },
  {
   "cell_type": "code",
   "execution_count": 53,
   "metadata": {},
   "outputs": [
    {
     "name": "stdout",
     "output_type": "stream",
     "text": [
      "[[1 2]\n",
      " [3 4]\n",
      " [5 6]]\n"
     ]
    }
   ],
   "source": [
    "#reshaping and manipulating array\n",
    "arr=np.array([[1,2,3],[4,5,6]])\n",
    "reshaped_arr=np.reshape(arr,(3,2))\n",
    "print(reshaped_arr)"
   ]
  },
  {
   "cell_type": "code",
   "execution_count": 54,
   "metadata": {},
   "outputs": [
    {
     "name": "stdout",
     "output_type": "stream",
     "text": [
      "[[1 4]\n",
      " [2 5]\n",
      " [3 6]]\n"
     ]
    }
   ],
   "source": [
    "transposed_arr=np.transpose(arr)\n",
    "print(transposed_arr)"
   ]
  },
  {
   "cell_type": "code",
   "execution_count": 55,
   "metadata": {},
   "outputs": [
    {
     "name": "stdout",
     "output_type": "stream",
     "text": [
      "[5 6 4 7 9 7]\n"
     ]
    }
   ],
   "source": [
    "#filtering\n",
    "a=np.array([1,2,5,6,4,7,9,7])\n",
    "filtering_arr=a[a>2]\n",
    "print(filtering_arr)"
   ]
  },
  {
   "cell_type": "code",
   "execution_count": null,
   "metadata": {},
   "outputs": [],
   "source": []
  }
 ],
 "metadata": {
  "kernelspec": {
   "display_name": "base",
   "language": "python",
   "name": "python3"
  },
  "language_info": {
   "codemirror_mode": {
    "name": "ipython",
    "version": 3
   },
   "file_extension": ".py",
   "mimetype": "text/x-python",
   "name": "python",
   "nbconvert_exporter": "python",
   "pygments_lexer": "ipython3",
   "version": "3.10.9"
  }
 },
 "nbformat": 4,
 "nbformat_minor": 2
}
