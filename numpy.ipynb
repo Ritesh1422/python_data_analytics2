{
 "cells": [
  {
   "cell_type": "code",
   "execution_count": 1,
   "metadata": {},
   "outputs": [],
   "source": [
    "import numpy as np"
   ]
  },
  {
   "cell_type": "code",
   "execution_count": 2,
   "metadata": {},
   "outputs": [
    {
     "name": "stdout",
     "output_type": "stream",
     "text": [
      "[1 2 2 3 4 5]\n"
     ]
    }
   ],
   "source": [
    "#create an array from a list\n",
    "arr=np.array([1,2,2,3,4,5])\n",
    "print (arr)"
   ]
  },
  {
   "cell_type": "code",
   "execution_count": 3,
   "metadata": {},
   "outputs": [
    {
     "name": "stdout",
     "output_type": "stream",
     "text": [
      "[0 2 4 6 8]\n"
     ]
    }
   ],
   "source": [
    "#arange function\n",
    "#create an with regular spaced values\n",
    "\n",
    "a_range=np.arange(0,10,2)\n",
    "print(a_range)"
   ]
  },
  {
   "cell_type": "code",
   "execution_count": 4,
   "metadata": {},
   "outputs": [
    {
     "name": "stdout",
     "output_type": "stream",
     "text": [
      "[ 0.   2.5  5.   7.5 10. ]\n"
     ]
    }
   ],
   "source": [
    "#CREATE an array with evenly spaced values\n",
    "a_linespace=np.linspace(0,10,5)\n",
    "print(a_linespace)"
   ]
  },
  {
   "cell_type": "code",
   "execution_count": 5,
   "metadata": {},
   "outputs": [
    {
     "name": "stdout",
     "output_type": "stream",
     "text": [
      "[0.01739251 0.73556729 0.89896013 0.90804041 0.56971478]\n"
     ]
    }
   ],
   "source": [
    "\n",
    "random_uniform=np.random.rand(5)\n",
    "print(random_uniform)"
   ]
  },
  {
   "cell_type": "code",
   "execution_count": 6,
   "metadata": {},
   "outputs": [
    {
     "name": "stdout",
     "output_type": "stream",
     "text": [
      "[ 0.31393282  0.52937476  0.070907    0.72803942 -0.10813923  1.47682706\n",
      "  1.07324129 -0.34374371  0.19360677  2.12082771]\n"
     ]
    }
   ],
   "source": [
    "random_normal=np.random.randn(10)\n",
    "print(random_normal)"
   ]
  },
  {
   "cell_type": "code",
   "execution_count": 7,
   "metadata": {},
   "outputs": [
    {
     "name": "stdout",
     "output_type": "stream",
     "text": [
      "(2, 3)\n",
      "6\n",
      "[[5 9 7]\n",
      " [9 5 4]]\n"
     ]
    }
   ],
   "source": [
    "arr=np.array([[5,9,7],[9,5,4]])\n",
    "shape=np.shape(arr)\n",
    "#dtype=np.dtype(arr #int64)\n",
    "size=np.size(arr)\n",
    "print(shape)\n",
    "print(size)\n",
    "print(arr)"
   ]
  },
  {
   "cell_type": "code",
   "execution_count": 8,
   "metadata": {},
   "outputs": [
    {
     "name": "stdout",
     "output_type": "stream",
     "text": [
      "1\n",
      "[5 8 7]\n"
     ]
    }
   ],
   "source": [
    "a=np.array([1,5,8,7,9,6,3,2,1])\n",
    "first_element=a[0]\n",
    "print(first_element)\n",
    "slice_array=a[1:4]\n",
    "print(slice_array)"
   ]
  },
  {
   "cell_type": "code",
   "execution_count": 9,
   "metadata": {},
   "outputs": [
    {
     "name": "stdout",
     "output_type": "stream",
     "text": [
      "[[1 2]\n",
      " [3 4]\n",
      " [5 6]]\n"
     ]
    }
   ],
   "source": [
    "#reshaping and manipulating array\n",
    "arr=np.array([[1,2,3],[4,5,6]])\n",
    "reshaped_arr=np.reshape(arr,(3,2))\n",
    "print(reshaped_arr)"
   ]
  },
  {
   "cell_type": "code",
   "execution_count": 10,
   "metadata": {},
   "outputs": [
    {
     "name": "stdout",
     "output_type": "stream",
     "text": [
      "[[1 4]\n",
      " [2 5]\n",
      " [3 6]]\n"
     ]
    }
   ],
   "source": [
    "transposed_arr=np.transpose(arr)\n",
    "print(transposed_arr)"
   ]
  },
  {
   "cell_type": "code",
   "execution_count": 11,
   "metadata": {},
   "outputs": [
    {
     "name": "stdout",
     "output_type": "stream",
     "text": [
      "[5 6 4 7 9 7]\n"
     ]
    }
   ],
   "source": [
    "#filtering\n",
    "a=np.array([1,2,5,6,4,7,9,7])\n",
    "filtering_arr=a[a>2]\n",
    "print(filtering_arr)"
   ]
  },
  {
   "cell_type": "markdown",
   "metadata": {},
   "source": [
    "TRIGNOMETRY \n"
   ]
  },
  {
   "cell_type": "markdown",
   "metadata": {},
   "source": [
    "LOGICAL "
   ]
  },
  {
   "cell_type": "code",
   "execution_count": 18,
   "metadata": {},
   "outputs": [
    {
     "data": {
      "text/plain": [
       "array([6, 7, 9, 7])"
      ]
     },
     "execution_count": 18,
     "metadata": {},
     "output_type": "execute_result"
    }
   ],
   "source": [
    "#boolean filter\n",
    "a[a > 5]"
   ]
  },
  {
   "cell_type": "code",
   "execution_count": 25,
   "metadata": {},
   "outputs": [
    {
     "data": {
      "text/plain": [
       "array([[ 2,  1,  2, -3, -3],\n",
       "       [-2, -1,  0,  1,  1],\n",
       "       [ 0, -3, -3, -2,  2],\n",
       "       [-3,  0,  1,  2, -1],\n",
       "       [ 1,  2,  1, -3, -1]])"
      ]
     },
     "execution_count": 25,
     "metadata": {},
     "output_type": "execute_result"
    }
   ],
   "source": [
    "x=np.random.randint(-3,3,(5,5))\n",
    "x"
   ]
  },
  {
   "cell_type": "code",
   "execution_count": 32,
   "metadata": {},
   "outputs": [
    {
     "data": {
      "text/plain": [
       "array([ 1, -1,  0,  1,  1,  0,  0,  1, -1,  1,  1, -1])"
      ]
     },
     "execution_count": 32,
     "metadata": {},
     "output_type": "execute_result"
    }
   ],
   "source": [
    "x[(x>-2) & (x<=1) ] \n",
    "#x<=1"
   ]
  },
  {
   "cell_type": "code",
   "execution_count": 34,
   "metadata": {},
   "outputs": [
    {
     "data": {
      "text/plain": [
       "2"
      ]
     },
     "execution_count": 34,
     "metadata": {},
     "output_type": "execute_result"
    }
   ],
   "source": [
    "# indexing and slicing \n",
    "x[0][0]\n",
    "x[0,0]"
   ]
  },
  {
   "cell_type": "code",
   "execution_count": 39,
   "metadata": {},
   "outputs": [
    {
     "ename": "IndexError",
     "evalue": "index 7 is out of bounds for axis 1 with size 5",
     "output_type": "error",
     "traceback": [
      "\u001b[1;31m---------------------------------------------------------------------------\u001b[0m",
      "\u001b[1;31mIndexError\u001b[0m                                Traceback (most recent call last)",
      "\u001b[1;32mc:\\Users\\rites\\OneDrive\\Documents\\python_data_analytics2\\numpy.ipynb Cell 18\u001b[0m line \u001b[0;36m3\n\u001b[0;32m      <a href='vscode-notebook-cell:/c%3A/Users/rites/OneDrive/Documents/python_data_analytics2/numpy.ipynb#X24sZmlsZQ%3D%3D?line=0'>1</a>\u001b[0m x[\u001b[39m3\u001b[39m,\u001b[39m3\u001b[39m]\n\u001b[1;32m----> <a href='vscode-notebook-cell:/c%3A/Users/rites/OneDrive/Documents/python_data_analytics2/numpy.ipynb#X24sZmlsZQ%3D%3D?line=2'>3</a>\u001b[0m x[\u001b[39m3\u001b[39;49m,\u001b[39m7\u001b[39;49m]\n\u001b[0;32m      <a href='vscode-notebook-cell:/c%3A/Users/rites/OneDrive/Documents/python_data_analytics2/numpy.ipynb#X24sZmlsZQ%3D%3D?line=4'>5</a>\u001b[0m x[\u001b[39m3\u001b[39m,\u001b[39m3\u001b[39m]\n",
      "\u001b[1;31mIndexError\u001b[0m: index 7 is out of bounds for axis 1 with size 5"
     ]
    }
   ],
   "source": [
    "x[3,3]\n",
    "\n",
    "x[3,7]\n",
    "\n",
    "x[3,3]"
   ]
  },
  {
   "cell_type": "code",
   "execution_count": 40,
   "metadata": {},
   "outputs": [
    {
     "name": "stdout",
     "output_type": "stream",
     "text": [
      "[ 2  1  2 -3 -3]\n",
      "[ 1  2  1 -3 -1]\n"
     ]
    }
   ],
   "source": [
    "print(x[0])# first row\n",
    "print(x[-1])# last row"
   ]
  },
  {
   "cell_type": "code",
   "execution_count": null,
   "metadata": {},
   "outputs": [],
   "source": []
  },
  {
   "cell_type": "markdown",
   "metadata": {},
   "source": [
    "syntax for slicing in 1d:[start:stop:step]\n",
    "syntax for slicing in 2d:[Rstart:Rstop:RStep , Cstart:Cstop:Cstep]\n"
   ]
  },
  {
   "cell_type": "code",
   "execution_count": 41,
   "metadata": {},
   "outputs": [
    {
     "name": "stdout",
     "output_type": "stream",
     "text": [
      "[2 1 2]\n"
     ]
    }
   ],
   "source": [
    "print(x[0,:3])"
   ]
  },
  {
   "cell_type": "code",
   "execution_count": 48,
   "metadata": {},
   "outputs": [
    {
     "name": "stdout",
     "output_type": "stream",
     "text": [
      "[2, -4]\n",
      "[ 1  2  1 -3 -1]\n"
     ]
    }
   ],
   "source": [
    "print([2,-4])\n",
    "print(x[-1])#last row"
   ]
  },
  {
   "cell_type": "code",
   "execution_count": 60,
   "metadata": {},
   "outputs": [
    {
     "name": "stdout",
     "output_type": "stream",
     "text": [
      "[ 2 -2  0 -3  1]\n",
      "[[ 2  1]\n",
      " [-2 -1]\n",
      " [ 0 -3]\n",
      " [-3  0]\n",
      " [ 1  2]]\n",
      "r\n",
      "[[ 1 -3]\n",
      " [-1  1]\n",
      " [-3 -2]\n",
      " [ 0  2]\n",
      " [ 2 -3]]\n"
     ]
    }
   ],
   "source": [
    "print(x[:,0]) #\n",
    "print(x[:,:2]) #first two\n",
    "print(\"r\")\n",
    "print(x[:,[1,3]]) #first index and third index and whole row\n",
    " "
   ]
  },
  {
   "cell_type": "code",
   "execution_count": 65,
   "metadata": {},
   "outputs": [
    {
     "data": {
      "text/plain": [
       "array([[-3, -3, -3, -3, -3],\n",
       "       [-3, -2, -1, -1,  0],\n",
       "       [-2, -1,  0,  0,  1],\n",
       "       [ 1,  1,  1,  1,  1],\n",
       "       [ 2,  2,  2,  2,  2]])"
      ]
     },
     "execution_count": 65,
     "metadata": {},
     "output_type": "execute_result"
    }
   ],
   "source": [
    "# sorting\n",
    "x.sort(axis=0)\n",
    "x"
   ]
  },
  {
   "cell_type": "code",
   "execution_count": 72,
   "metadata": {},
   "outputs": [
    {
     "data": {
      "text/plain": [
       "array([[32, 88, 49],\n",
       "       [14, 67, 99],\n",
       "       [11, 38, 28],\n",
       "       [84, 68, 32],\n",
       "       [63, 43, 90],\n",
       "       [75, 77, 27]])"
      ]
     },
     "execution_count": 72,
     "metadata": {},
     "output_type": "execute_result"
    }
   ],
   "source": [
    "x=np.random.randint(1,100,(6,3))\n",
    "x"
   ]
  },
  {
   "cell_type": "code",
   "execution_count": 73,
   "metadata": {},
   "outputs": [
    {
     "data": {
      "text/plain": [
       "array([[11, 38, 27],\n",
       "       [14, 43, 28],\n",
       "       [32, 67, 32],\n",
       "       [63, 68, 49],\n",
       "       [75, 77, 90],\n",
       "       [84, 88, 99]])"
      ]
     },
     "execution_count": 73,
     "metadata": {},
     "output_type": "execute_result"
    }
   ],
   "source": [
    "x.sort(axis=0)\n",
    "x"
   ]
  },
  {
   "cell_type": "code",
   "execution_count": 79,
   "metadata": {},
   "outputs": [
    {
     "data": {
      "text/plain": [
       "array([11, 38, 27, 14, 43, 28, 32, 67, 32, 63, 68, 49, 75, 77, 90, 84, 88,\n",
       "       99])"
      ]
     },
     "execution_count": 79,
     "metadata": {},
     "output_type": "execute_result"
    }
   ],
   "source": [
    "e=x.flatten()\n",
    "x\n",
    "e"
   ]
  },
  {
   "cell_type": "code",
   "execution_count": 86,
   "metadata": {},
   "outputs": [
    {
     "data": {
      "text/plain": [
       "array([[11, 38, 27],\n",
       "       [14, 43, 28],\n",
       "       [32, 67, 32],\n",
       "       [63, 68, 49],\n",
       "       [75, 77, 90],\n",
       "       [84, 88, 99]])"
      ]
     },
     "execution_count": 86,
     "metadata": {},
     "output_type": "execute_result"
    }
   ],
   "source": [
    "y=e.reshape(6,3)\n",
    "y"
   ]
  },
  {
   "cell_type": "code",
   "execution_count": 87,
   "metadata": {},
   "outputs": [
    {
     "data": {
      "text/plain": [
       "99"
      ]
     },
     "execution_count": 87,
     "metadata": {},
     "output_type": "execute_result"
    }
   ],
   "source": [
    "x.max()"
   ]
  },
  {
   "cell_type": "code",
   "execution_count": 89,
   "metadata": {},
   "outputs": [
    {
     "data": {
      "text/plain": [
       "0"
      ]
     },
     "execution_count": 89,
     "metadata": {},
     "output_type": "execute_result"
    }
   ],
   "source": [
    "x.argmax()\n",
    "x.argmin()"
   ]
  },
  {
   "cell_type": "code",
   "execution_count": 90,
   "metadata": {},
   "outputs": [
    {
     "data": {
      "text/plain": [
       "array([[11, 38, 27],\n",
       "       [14, 43, 28],\n",
       "       [32, 67, 32],\n",
       "       [63, 68, 49],\n",
       "       [75, 77, 90],\n",
       "       [84, 88, 99]])"
      ]
     },
     "execution_count": 90,
     "metadata": {},
     "output_type": "execute_result"
    }
   ],
   "source": [
    "x"
   ]
  },
  {
   "cell_type": "code",
   "execution_count": null,
   "metadata": {},
   "outputs": [],
   "source": []
  }
 ],
 "metadata": {
  "kernelspec": {
   "display_name": "base",
   "language": "python",
   "name": "python3"
  },
  "language_info": {
   "codemirror_mode": {
    "name": "ipython",
    "version": 3
   },
   "file_extension": ".py",
   "mimetype": "text/x-python",
   "name": "python",
   "nbconvert_exporter": "python",
   "pygments_lexer": "ipython3",
   "version": "3.10.9"
  }
 },
 "nbformat": 4,
 "nbformat_minor": 2
}
