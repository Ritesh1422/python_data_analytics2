{
 "cells": [
  {
   "cell_type": "code",
   "execution_count": 4,
   "metadata": {},
   "outputs": [],
   "source": [
    "kachra='''The Godfather (1972)\n",
    "The Shawshank Redemption (1994)\n",
    "Pulp Fiction (1994)\n",
    "The Dark Knight (2008)\n",
    "The Empire Strikes Back (1980)\n",
    "Schindler's List (1993)\n",
    "Casablanca (1942)\n",
    "Citizen Kane (1941)\n",
    "Gone with the Wind (1939)\n",
    "The Lord of the Rings trilogy (2001-2003)\n",
    "Fight Club (1999)\n",
    "Goodfellas (1990)\n",
    "The Matrix (1999)\n",
    "Star Wars (1977)\n",
    "The Silence of the Lambs (1991)\n",
    "The Shawshank Redemption (1994)\n",
    "Seven Samurai (1954)\n",
    "Psycho (1960)\n",
    "Lawrence of Arabia (1962)\n",
    "Rear Window (1954)\n",
    "Apocalypse Now (1979)\n",
    "The Good, the Bad and the Ugly (1966)\n",
    "The Godfather Part II (1974)\n",
    "Forrest Gump (1994)\n",
    "The Green Mile (1999)\n",
    "2001: A Space Odyssey (1968)\n",
    "Blade Runner (1982)\n",
    "The Wizard of Oz (1939)\n",
    "The Lord of the Rings: The Fellowship of the Ring (2001)\n",
    "The Lord of the Rings: The Two Towers (2002)\n",
    "The Lord of the Rings: The Return of the King (2003)\n",
    "Toy Story (1995)\n",
    "Schindler's List (1993)\n",
    "Jaws (1975)\n",
    "The Lion King (1994)\n",
    "E.T. the Extra-Terrestrial (1982)\n",
    "The Avengers (2012)\n",
    "Avatar (2009)\n",
    "Inception (2010)\n",
    "The Great Gatsby (2013)\n",
    "Titanic (1997)\n",
    "Gladiator (2000)\n",
    "The Graduate (1967)\n",
    "The Breakfast Club (1985)\n",
    "The Social Network (2010)\n",
    "A Clockwork Orange (1971)\n",
    "Saving Private Ryan (1998)\n",
    "The Shining (1980)\n",
    "The Departed (2006)\n",
    "The Sound of Music (1965)\n",
    "Interstellar (2014)\n",
    "The Usual Suspects (1995)\n",
    "Amélie (2001)\n",
    "The Pianist (2002)\n",
    "The Godfather Part III (1990)\n",
    "The Intouchables (2011)\n",
    "The Departed (2006)\n",
    "No Country for Old Men (2007)\n",
    "Crouching Tiger, Hidden Dragon (2000)\n",
    "Reservoir Dogs (1992)\n",
    "The Big Lebowski (1998)\n",
    "Oldboy (2003)\n",
    "Memento (2000)\n",
    "The Dark Knight Rises (2012)\n",
    "Django Unchained (2012)\n",
    "The Prestige (2006)\n",
    "Braveheart (1995)\n",
    "City of God (2002)\n",
    "Pan's Labyrinth (2006)\n",
    "The Grand Budapest Hotel (2014)\n",
    "Birdman (2014)\n",
    "Whiplash (2014)\n",
    "The Lives of Others (2006)\n",
    "The Hunt (2012)\n",
    "Amadeus (1984)\n",
    "Lawrence of Arabia (1962)\n",
    "The Bridge on the River Kwai (1957)\n",
    "Rocky (1976)\n",
    "The Great Escape (1963)\n",
    "Reservoir Dogs (1992)\n",
    "The Usual Suspects (1995)\n",
    "Raging Bull (1980)\n",
    "Taxi Driver (1976)\n",
    "Good Will Hunting (1997)\n",
    "The Sixth Sense (1999)\n",
    "La La Land (2016)\n",
    "The Wolf of Wall Street (2013)\n",
    "Her (2013)\n",
    "Drive (2011)\n",
    "The Truman Show (1998)\n",
    "The Exorcist (1973)\n",
    "The Princess Bride (1987)\n",
    "The Big Short (2015)\n",
    "The Incredibles (2004)\n",
    "The Jungle Book (1967)\n",
    "The Iron Giant (1999)\n",
    "The King's Speech (2010)\n",
    "Blade Runner 2049 (2017)\n",
    "Mad Max: Fury Road (2015)\n",
    "The Social Dilemma (2020)\n",
    "'''"
   ]
  },
  {
   "cell_type": "code",
   "execution_count": 5,
   "metadata": {},
   "outputs": [
    {
     "data": {
      "text/plain": [
       "['The Godfather (1972)',\n",
       " 'The Shawshank Redemption (1994)',\n",
       " 'Pulp Fiction (1994)',\n",
       " 'The Dark Knight (2008)',\n",
       " 'The Empire Strikes Back (1980)',\n",
       " \"Schindler's List (1993)\",\n",
       " 'Casablanca (1942)',\n",
       " 'Citizen Kane (1941)',\n",
       " 'Gone with the Wind (1939)',\n",
       " 'The Lord of the Rings trilogy (2001-2003)',\n",
       " 'Fight Club (1999)',\n",
       " 'Goodfellas (1990)',\n",
       " 'The Matrix (1999)',\n",
       " 'Star Wars (1977)',\n",
       " 'The Silence of the Lambs (1991)',\n",
       " 'The Shawshank Redemption (1994)',\n",
       " 'Seven Samurai (1954)',\n",
       " 'Psycho (1960)',\n",
       " 'Lawrence of Arabia (1962)',\n",
       " 'Rear Window (1954)',\n",
       " 'Apocalypse Now (1979)',\n",
       " 'The Good, the Bad and the Ugly (1966)',\n",
       " 'The Godfather Part II (1974)',\n",
       " 'Forrest Gump (1994)',\n",
       " 'The Green Mile (1999)',\n",
       " '2001: A Space Odyssey (1968)',\n",
       " 'Blade Runner (1982)',\n",
       " 'The Wizard of Oz (1939)',\n",
       " 'The Lord of the Rings: The Fellowship of the Ring (2001)',\n",
       " 'The Lord of the Rings: The Two Towers (2002)',\n",
       " 'The Lord of the Rings: The Return of the King (2003)',\n",
       " 'Toy Story (1995)',\n",
       " \"Schindler's List (1993)\",\n",
       " 'Jaws (1975)',\n",
       " 'The Lion King (1994)',\n",
       " 'E.T. the Extra-Terrestrial (1982)',\n",
       " 'The Avengers (2012)',\n",
       " 'Avatar (2009)',\n",
       " 'Inception (2010)',\n",
       " 'The Great Gatsby (2013)',\n",
       " 'Titanic (1997)',\n",
       " 'Gladiator (2000)',\n",
       " 'The Graduate (1967)',\n",
       " 'The Breakfast Club (1985)',\n",
       " 'The Social Network (2010)',\n",
       " 'A Clockwork Orange (1971)',\n",
       " 'Saving Private Ryan (1998)',\n",
       " 'The Shining (1980)',\n",
       " 'The Departed (2006)',\n",
       " 'The Sound of Music (1965)',\n",
       " 'Interstellar (2014)',\n",
       " 'The Usual Suspects (1995)',\n",
       " 'Amélie (2001)',\n",
       " 'The Pianist (2002)',\n",
       " 'The Godfather Part III (1990)',\n",
       " 'The Intouchables (2011)',\n",
       " 'The Departed (2006)',\n",
       " 'No Country for Old Men (2007)',\n",
       " 'Crouching Tiger, Hidden Dragon (2000)',\n",
       " 'Reservoir Dogs (1992)',\n",
       " 'The Big Lebowski (1998)',\n",
       " 'Oldboy (2003)',\n",
       " 'Memento (2000)',\n",
       " 'The Dark Knight Rises (2012)',\n",
       " 'Django Unchained (2012)',\n",
       " 'The Prestige (2006)',\n",
       " 'Braveheart (1995)',\n",
       " 'City of God (2002)',\n",
       " \"Pan's Labyrinth (2006)\",\n",
       " 'The Grand Budapest Hotel (2014)',\n",
       " 'Birdman (2014)',\n",
       " 'Whiplash (2014)',\n",
       " 'The Lives of Others (2006)',\n",
       " 'The Hunt (2012)',\n",
       " 'Amadeus (1984)',\n",
       " 'Lawrence of Arabia (1962)',\n",
       " 'The Bridge on the River Kwai (1957)',\n",
       " 'Rocky (1976)',\n",
       " 'The Great Escape (1963)',\n",
       " 'Reservoir Dogs (1992)',\n",
       " 'The Usual Suspects (1995)',\n",
       " 'Raging Bull (1980)',\n",
       " 'Taxi Driver (1976)',\n",
       " 'Good Will Hunting (1997)',\n",
       " 'The Sixth Sense (1999)',\n",
       " 'La La Land (2016)',\n",
       " 'The Wolf of Wall Street (2013)',\n",
       " 'Her (2013)',\n",
       " 'Drive (2011)',\n",
       " 'The Truman Show (1998)',\n",
       " 'The Exorcist (1973)',\n",
       " 'The Princess Bride (1987)',\n",
       " 'The Big Short (2015)',\n",
       " 'The Incredibles (2004)',\n",
       " 'The Jungle Book (1967)',\n",
       " 'The Iron Giant (1999)',\n",
       " \"The King's Speech (2010)\",\n",
       " 'Blade Runner 2049 (2017)',\n",
       " 'Mad Max: Fury Road (2015)',\n",
       " 'The Social Dilemma (2020)']"
      ]
     },
     "execution_count": 5,
     "metadata": {},
     "output_type": "execute_result"
    }
   ],
   "source": [
    "movies=kachra.splitlines()\n",
    "movies\n"
   ]
  },
  {
   "cell_type": "code",
   "execution_count": 13,
   "metadata": {},
   "outputs": [
    {
     "name": "stdout",
     "output_type": "stream",
     "text": [
      "100\n"
     ]
    }
   ],
   "source": [
    "print(len(movies))"
   ]
  },
  {
   "cell_type": "code",
   "execution_count": 9,
   "metadata": {},
   "outputs": [
    {
     "name": "stdout",
     "output_type": "stream",
     "text": [
      "2352\n"
     ]
    }
   ],
   "source": [
    "print(len(kachra))\n"
   ]
  },
  {
   "cell_type": "code",
   "execution_count": 14,
   "metadata": {},
   "outputs": [
    {
     "ename": "AttributeError",
     "evalue": "'str' object has no attribute '__reversed__'",
     "output_type": "error",
     "traceback": [
      "\u001b[1;31m---------------------------------------------------------------------------\u001b[0m",
      "\u001b[1;31mAttributeError\u001b[0m                            Traceback (most recent call last)",
      "Cell \u001b[1;32mIn[14], line 1\u001b[0m\n\u001b[1;32m----> 1\u001b[0m kachra\u001b[39m.\u001b[39;49m\u001b[39m__reversed__\u001b[39;49m\n",
      "\u001b[1;31mAttributeError\u001b[0m: 'str' object has no attribute '__reversed__'"
     ]
    }
   ],
   "source": [
    "kachra.__reversed__"
   ]
  },
  {
   "cell_type": "code",
   "execution_count": 16,
   "metadata": {},
   "outputs": [
    {
     "data": {
      "text/plain": [
       "['The Godfather (1972)',\n",
       " 'The Shawshank Redemption (1994)',\n",
       " 'Pulp Fiction (1994)',\n",
       " 'The Dark Knight (2008)',\n",
       " 'The Empire Strikes Back (1980)',\n",
       " \"Schindler's List (1993)\",\n",
       " 'Casablanca (1942)',\n",
       " 'Citizen Kane (1941)',\n",
       " 'Gone with the Wind (1939)',\n",
       " 'The Lord of the Rings trilogy (2001-2003)',\n",
       " 'Fight Club (1999)',\n",
       " 'Goodfellas (1990)',\n",
       " 'The Matrix (1999)',\n",
       " 'Star Wars (1977)',\n",
       " 'The Silence of the Lambs (1991)',\n",
       " 'The Shawshank Redemption (1994)',\n",
       " 'Seven Samurai (1954)',\n",
       " 'Psycho (1960)',\n",
       " 'Lawrence of Arabia (1962)',\n",
       " 'Rear Window (1954)',\n",
       " 'Apocalypse Now (1979)',\n",
       " 'The Good, the Bad and the Ugly (1966)',\n",
       " 'The Godfather Part II (1974)',\n",
       " 'Forrest Gump (1994)',\n",
       " 'The Green Mile (1999)',\n",
       " '2001: A Space Odyssey (1968)',\n",
       " 'Blade Runner (1982)',\n",
       " 'The Wizard of Oz (1939)',\n",
       " 'The Lord of the Rings: The Fellowship of the Ring (2001)',\n",
       " 'The Lord of the Rings: The Two Towers (2002)',\n",
       " 'The Lord of the Rings: The Return of the King (2003)',\n",
       " 'Toy Story (1995)',\n",
       " \"Schindler's List (1993)\",\n",
       " 'Jaws (1975)',\n",
       " 'The Lion King (1994)',\n",
       " 'E.T. the Extra-Terrestrial (1982)',\n",
       " 'The Avengers (2012)',\n",
       " 'Avatar (2009)',\n",
       " 'Inception (2010)',\n",
       " 'The Great Gatsby (2013)',\n",
       " 'Titanic (1997)',\n",
       " 'Gladiator (2000)',\n",
       " 'The Graduate (1967)',\n",
       " 'The Breakfast Club (1985)',\n",
       " 'The Social Network (2010)',\n",
       " 'A Clockwork Orange (1971)',\n",
       " 'Saving Private Ryan (1998)',\n",
       " 'The Shining (1980)',\n",
       " 'The Departed (2006)',\n",
       " 'The Sound of Music (1965)',\n",
       " 'Interstellar (2014)',\n",
       " 'The Usual Suspects (1995)',\n",
       " 'Amélie (2001)',\n",
       " 'The Pianist (2002)',\n",
       " 'The Godfather Part III (1990)',\n",
       " 'The Intouchables (2011)',\n",
       " 'The Departed (2006)',\n",
       " 'No Country for Old Men (2007)',\n",
       " 'Crouching Tiger, Hidden Dragon (2000)',\n",
       " 'Reservoir Dogs (1992)',\n",
       " 'The Big Lebowski (1998)',\n",
       " 'Oldboy (2003)',\n",
       " 'Memento (2000)',\n",
       " 'The Dark Knight Rises (2012)',\n",
       " 'Django Unchained (2012)',\n",
       " 'The Prestige (2006)',\n",
       " 'Braveheart (1995)',\n",
       " 'City of God (2002)',\n",
       " \"Pan's Labyrinth (2006)\",\n",
       " 'The Grand Budapest Hotel (2014)',\n",
       " 'Birdman (2014)',\n",
       " 'Whiplash (2014)',\n",
       " 'The Lives of Others (2006)',\n",
       " 'The Hunt (2012)',\n",
       " 'Amadeus (1984)',\n",
       " 'Lawrence of Arabia (1962)',\n",
       " 'The Bridge on the River Kwai (1957)',\n",
       " 'Rocky (1976)',\n",
       " 'The Great Escape (1963)',\n",
       " 'Reservoir Dogs (1992)',\n",
       " 'The Usual Suspects (1995)',\n",
       " 'Raging Bull (1980)',\n",
       " 'Taxi Driver (1976)',\n",
       " 'Good Will Hunting (1997)',\n",
       " 'The Sixth Sense (1999)',\n",
       " 'La La Land (2016)',\n",
       " 'The Wolf of Wall Street (2013)',\n",
       " 'Her (2013)',\n",
       " 'Drive (2011)',\n",
       " 'The Truman Show (1998)',\n",
       " 'The Exorcist (1973)',\n",
       " 'The Princess Bride (1987)',\n",
       " 'The Big Short (2015)',\n",
       " 'The Incredibles (2004)',\n",
       " 'The Jungle Book (1967)',\n",
       " 'The Iron Giant (1999)',\n",
       " \"The King's Speech (2010)\",\n",
       " 'Blade Runner 2049 (2017)',\n",
       " 'Mad Max: Fury Road (2015)',\n",
       " 'The Social Dilemma (2020)']"
      ]
     },
     "execution_count": 16,
     "metadata": {},
     "output_type": "execute_result"
    }
   ],
   "source": [
    "movies"
   ]
  },
  {
   "cell_type": "markdown",
   "metadata": {},
   "source": []
  },
  {
   "cell_type": "code",
   "execution_count": 17,
   "metadata": {},
   "outputs": [],
   "source": [
    "movies.reverse()"
   ]
  },
  {
   "cell_type": "code",
   "execution_count": 18,
   "metadata": {},
   "outputs": [],
   "source": [
    "movies.sort()"
   ]
  },
  {
   "cell_type": "code",
   "execution_count": 19,
   "metadata": {},
   "outputs": [
    {
     "data": {
      "text/plain": [
       "['2001: A Space Odyssey (1968)',\n",
       " 'A Clockwork Orange (1971)',\n",
       " 'Amadeus (1984)',\n",
       " 'Amélie (2001)',\n",
       " 'Apocalypse Now (1979)',\n",
       " 'Avatar (2009)',\n",
       " 'Birdman (2014)',\n",
       " 'Blade Runner (1982)',\n",
       " 'Blade Runner 2049 (2017)',\n",
       " 'Braveheart (1995)',\n",
       " 'Casablanca (1942)',\n",
       " 'Citizen Kane (1941)',\n",
       " 'City of God (2002)',\n",
       " 'Crouching Tiger, Hidden Dragon (2000)',\n",
       " 'Django Unchained (2012)',\n",
       " 'Drive (2011)',\n",
       " 'E.T. the Extra-Terrestrial (1982)',\n",
       " 'Fight Club (1999)',\n",
       " 'Forrest Gump (1994)',\n",
       " 'Gladiator (2000)',\n",
       " 'Gone with the Wind (1939)',\n",
       " 'Good Will Hunting (1997)',\n",
       " 'Goodfellas (1990)',\n",
       " 'Her (2013)',\n",
       " 'Inception (2010)',\n",
       " 'Interstellar (2014)',\n",
       " 'Jaws (1975)',\n",
       " 'La La Land (2016)',\n",
       " 'Lawrence of Arabia (1962)',\n",
       " 'Lawrence of Arabia (1962)',\n",
       " 'Mad Max: Fury Road (2015)',\n",
       " 'Memento (2000)',\n",
       " 'No Country for Old Men (2007)',\n",
       " 'Oldboy (2003)',\n",
       " \"Pan's Labyrinth (2006)\",\n",
       " 'Psycho (1960)',\n",
       " 'Pulp Fiction (1994)',\n",
       " 'Raging Bull (1980)',\n",
       " 'Rear Window (1954)',\n",
       " 'Reservoir Dogs (1992)',\n",
       " 'Reservoir Dogs (1992)',\n",
       " 'Rocky (1976)',\n",
       " 'Saving Private Ryan (1998)',\n",
       " \"Schindler's List (1993)\",\n",
       " \"Schindler's List (1993)\",\n",
       " 'Seven Samurai (1954)',\n",
       " 'Star Wars (1977)',\n",
       " 'Taxi Driver (1976)',\n",
       " 'The Avengers (2012)',\n",
       " 'The Big Lebowski (1998)',\n",
       " 'The Big Short (2015)',\n",
       " 'The Breakfast Club (1985)',\n",
       " 'The Bridge on the River Kwai (1957)',\n",
       " 'The Dark Knight (2008)',\n",
       " 'The Dark Knight Rises (2012)',\n",
       " 'The Departed (2006)',\n",
       " 'The Departed (2006)',\n",
       " 'The Empire Strikes Back (1980)',\n",
       " 'The Exorcist (1973)',\n",
       " 'The Godfather (1972)',\n",
       " 'The Godfather Part II (1974)',\n",
       " 'The Godfather Part III (1990)',\n",
       " 'The Good, the Bad and the Ugly (1966)',\n",
       " 'The Graduate (1967)',\n",
       " 'The Grand Budapest Hotel (2014)',\n",
       " 'The Great Escape (1963)',\n",
       " 'The Great Gatsby (2013)',\n",
       " 'The Green Mile (1999)',\n",
       " 'The Hunt (2012)',\n",
       " 'The Incredibles (2004)',\n",
       " 'The Intouchables (2011)',\n",
       " 'The Iron Giant (1999)',\n",
       " 'The Jungle Book (1967)',\n",
       " \"The King's Speech (2010)\",\n",
       " 'The Lion King (1994)',\n",
       " 'The Lives of Others (2006)',\n",
       " 'The Lord of the Rings trilogy (2001-2003)',\n",
       " 'The Lord of the Rings: The Fellowship of the Ring (2001)',\n",
       " 'The Lord of the Rings: The Return of the King (2003)',\n",
       " 'The Lord of the Rings: The Two Towers (2002)',\n",
       " 'The Matrix (1999)',\n",
       " 'The Pianist (2002)',\n",
       " 'The Prestige (2006)',\n",
       " 'The Princess Bride (1987)',\n",
       " 'The Shawshank Redemption (1994)',\n",
       " 'The Shawshank Redemption (1994)',\n",
       " 'The Shining (1980)',\n",
       " 'The Silence of the Lambs (1991)',\n",
       " 'The Sixth Sense (1999)',\n",
       " 'The Social Dilemma (2020)',\n",
       " 'The Social Network (2010)',\n",
       " 'The Sound of Music (1965)',\n",
       " 'The Truman Show (1998)',\n",
       " 'The Usual Suspects (1995)',\n",
       " 'The Usual Suspects (1995)',\n",
       " 'The Wizard of Oz (1939)',\n",
       " 'The Wolf of Wall Street (2013)',\n",
       " 'Titanic (1997)',\n",
       " 'Toy Story (1995)',\n",
       " 'Whiplash (2014)']"
      ]
     },
     "execution_count": 19,
     "metadata": {},
     "output_type": "execute_result"
    }
   ],
   "source": [
    "movies"
   ]
  },
  {
   "cell_type": "code",
   "execution_count": 20,
   "metadata": {},
   "outputs": [],
   "source": [
    "movies.reverse()"
   ]
  },
  {
   "cell_type": "code",
   "execution_count": 21,
   "metadata": {},
   "outputs": [
    {
     "data": {
      "text/plain": [
       "['Whiplash (2014)',\n",
       " 'Toy Story (1995)',\n",
       " 'Titanic (1997)',\n",
       " 'The Wolf of Wall Street (2013)',\n",
       " 'The Wizard of Oz (1939)',\n",
       " 'The Usual Suspects (1995)',\n",
       " 'The Usual Suspects (1995)',\n",
       " 'The Truman Show (1998)',\n",
       " 'The Sound of Music (1965)',\n",
       " 'The Social Network (2010)',\n",
       " 'The Social Dilemma (2020)',\n",
       " 'The Sixth Sense (1999)',\n",
       " 'The Silence of the Lambs (1991)',\n",
       " 'The Shining (1980)',\n",
       " 'The Shawshank Redemption (1994)',\n",
       " 'The Shawshank Redemption (1994)',\n",
       " 'The Princess Bride (1987)',\n",
       " 'The Prestige (2006)',\n",
       " 'The Pianist (2002)',\n",
       " 'The Matrix (1999)',\n",
       " 'The Lord of the Rings: The Two Towers (2002)',\n",
       " 'The Lord of the Rings: The Return of the King (2003)',\n",
       " 'The Lord of the Rings: The Fellowship of the Ring (2001)',\n",
       " 'The Lord of the Rings trilogy (2001-2003)',\n",
       " 'The Lives of Others (2006)',\n",
       " 'The Lion King (1994)',\n",
       " \"The King's Speech (2010)\",\n",
       " 'The Jungle Book (1967)',\n",
       " 'The Iron Giant (1999)',\n",
       " 'The Intouchables (2011)',\n",
       " 'The Incredibles (2004)',\n",
       " 'The Hunt (2012)',\n",
       " 'The Green Mile (1999)',\n",
       " 'The Great Gatsby (2013)',\n",
       " 'The Great Escape (1963)',\n",
       " 'The Grand Budapest Hotel (2014)',\n",
       " 'The Graduate (1967)',\n",
       " 'The Good, the Bad and the Ugly (1966)',\n",
       " 'The Godfather Part III (1990)',\n",
       " 'The Godfather Part II (1974)',\n",
       " 'The Godfather (1972)',\n",
       " 'The Exorcist (1973)',\n",
       " 'The Empire Strikes Back (1980)',\n",
       " 'The Departed (2006)',\n",
       " 'The Departed (2006)',\n",
       " 'The Dark Knight Rises (2012)',\n",
       " 'The Dark Knight (2008)',\n",
       " 'The Bridge on the River Kwai (1957)',\n",
       " 'The Breakfast Club (1985)',\n",
       " 'The Big Short (2015)',\n",
       " 'The Big Lebowski (1998)',\n",
       " 'The Avengers (2012)',\n",
       " 'Taxi Driver (1976)',\n",
       " 'Star Wars (1977)',\n",
       " 'Seven Samurai (1954)',\n",
       " \"Schindler's List (1993)\",\n",
       " \"Schindler's List (1993)\",\n",
       " 'Saving Private Ryan (1998)',\n",
       " 'Rocky (1976)',\n",
       " 'Reservoir Dogs (1992)',\n",
       " 'Reservoir Dogs (1992)',\n",
       " 'Rear Window (1954)',\n",
       " 'Raging Bull (1980)',\n",
       " 'Pulp Fiction (1994)',\n",
       " 'Psycho (1960)',\n",
       " \"Pan's Labyrinth (2006)\",\n",
       " 'Oldboy (2003)',\n",
       " 'No Country for Old Men (2007)',\n",
       " 'Memento (2000)',\n",
       " 'Mad Max: Fury Road (2015)',\n",
       " 'Lawrence of Arabia (1962)',\n",
       " 'Lawrence of Arabia (1962)',\n",
       " 'La La Land (2016)',\n",
       " 'Jaws (1975)',\n",
       " 'Interstellar (2014)',\n",
       " 'Inception (2010)',\n",
       " 'Her (2013)',\n",
       " 'Goodfellas (1990)',\n",
       " 'Good Will Hunting (1997)',\n",
       " 'Gone with the Wind (1939)',\n",
       " 'Gladiator (2000)',\n",
       " 'Forrest Gump (1994)',\n",
       " 'Fight Club (1999)',\n",
       " 'E.T. the Extra-Terrestrial (1982)',\n",
       " 'Drive (2011)',\n",
       " 'Django Unchained (2012)',\n",
       " 'Crouching Tiger, Hidden Dragon (2000)',\n",
       " 'City of God (2002)',\n",
       " 'Citizen Kane (1941)',\n",
       " 'Casablanca (1942)',\n",
       " 'Braveheart (1995)',\n",
       " 'Blade Runner 2049 (2017)',\n",
       " 'Blade Runner (1982)',\n",
       " 'Birdman (2014)',\n",
       " 'Avatar (2009)',\n",
       " 'Apocalypse Now (1979)',\n",
       " 'Amélie (2001)',\n",
       " 'Amadeus (1984)',\n",
       " 'A Clockwork Orange (1971)',\n",
       " '2001: A Space Odyssey (1968)']"
      ]
     },
     "execution_count": 21,
     "metadata": {},
     "output_type": "execute_result"
    }
   ],
   "source": [
    "movies"
   ]
  },
  {
   "cell_type": "code",
   "execution_count": 24,
   "metadata": {},
   "outputs": [
    {
     "data": {
      "text/plain": [
       "0"
      ]
     },
     "execution_count": 24,
     "metadata": {},
     "output_type": "execute_result"
    }
   ],
   "source": [
    "movies.count('The')"
   ]
  },
  {
   "cell_type": "markdown",
   "metadata": {},
   "source": []
  },
  {
   "cell_type": "code",
   "execution_count": 25,
   "metadata": {},
   "outputs": [
    {
     "data": {
      "text/plain": [
       "98"
      ]
     },
     "execution_count": 25,
     "metadata": {},
     "output_type": "execute_result"
    }
   ],
   "source": [
    "movies.index('A Clockwork Orange (1971)')"
   ]
  },
  {
   "cell_type": "code",
   "execution_count": 26,
   "metadata": {},
   "outputs": [],
   "source": [
    "x=[1,1,1,22,2,2,3,3,3,3,3,3,4,4,4,4,5,5,5,5,5]"
   ]
  },
  {
   "cell_type": "code",
   "execution_count": 30,
   "metadata": {},
   "outputs": [
    {
     "name": "stdout",
     "output_type": "stream",
     "text": [
      "3\n",
      "6\n"
     ]
    }
   ],
   "source": [
    "print(x.count(1))\n",
    "print(x.count(3))"
   ]
  },
  {
   "cell_type": "code",
   "execution_count": 32,
   "metadata": {},
   "outputs": [],
   "source": [
    "movies_bk=movies.copy()"
   ]
  },
  {
   "cell_type": "code",
   "execution_count": 33,
   "metadata": {},
   "outputs": [
    {
     "data": {
      "text/plain": [
       "['Whiplash (2014)',\n",
       " 'Toy Story (1995)',\n",
       " 'Titanic (1997)',\n",
       " 'The Wolf of Wall Street (2013)',\n",
       " 'The Wizard of Oz (1939)',\n",
       " 'The Usual Suspects (1995)',\n",
       " 'The Usual Suspects (1995)',\n",
       " 'The Truman Show (1998)',\n",
       " 'The Sound of Music (1965)',\n",
       " 'The Social Network (2010)']"
      ]
     },
     "execution_count": 33,
     "metadata": {},
     "output_type": "execute_result"
    }
   ],
   "source": [
    "movies[:10]"
   ]
  },
  {
   "cell_type": "code",
   "execution_count": null,
   "metadata": {},
   "outputs": [],
   "source": [
    "size_movies=[]\n",
    "for movie in movies:\n",
    "    s=len(movie)\n",
    "    size_movies.append(s)\n",
    "    print(size_movies)"
   ]
  },
  {
   "cell_type": "code",
   "execution_count": 35,
   "metadata": {},
   "outputs": [
    {
     "name": "stdout",
     "output_type": "stream",
     "text": [
      "[16, 4, 45, 52, 14, 12, 11, 10, 8, 9, 74]\n",
      "[256, 16, 2025, 2704, 196, 144, 121, 100, 64, 81, 5476]\n"
     ]
    }
   ],
   "source": [
    "x=[16,4,45,52,14,12,11,10,8,9,74]\n",
    "x2=[i**2 for i in x]\n",
    "print(x)\n",
    "print(x2)"
   ]
  },
  {
   "cell_type": "code",
   "execution_count": 43,
   "metadata": {},
   "outputs": [
    {
     "name": "stdout",
     "output_type": "stream",
     "text": [
      "[256, 16, 2704, 196, 144, 100, 64, 5476]\n"
     ]
    }
   ],
   "source": [
    "x2_even=[i**2 for i in x if i%2==0]\n",
    "print(x2_even)\n"
   ]
  },
  {
   "cell_type": "code",
   "execution_count": 7,
   "metadata": {},
   "outputs": [
    {
     "name": "stdout",
     "output_type": "stream",
     "text": [
      "['alex', 'sam', 'rajmohan', 'lady']\n"
     ]
    }
   ],
   "source": [
    "names = ['alex singh','sam mishra','rajmohan','lady gaga']\n",
    "fnames=[name.split()[0]for name in names]\n",
    "print(fnames)"
   ]
  },
  {
   "cell_type": "code",
   "execution_count": 4,
   "metadata": {},
   "outputs": [
    {
     "ename": "SyntaxError",
     "evalue": "invalid syntax (4096736421.py, line 2)",
     "output_type": "error",
     "traceback": [
      "\u001b[1;36m  Cell \u001b[1;32mIn[4], line 2\u001b[1;36m\u001b[0m\n\u001b[1;33m    odd_cubes=[i**3 for in numbers]\u001b[0m\n\u001b[1;37m                        ^\u001b[0m\n\u001b[1;31mSyntaxError\u001b[0m\u001b[1;31m:\u001b[0m invalid syntax\n"
     ]
    }
   ],
   "source": [
    "numbers=[2,5,5,4,8,5,7,996]\n",
    "odd_cubes=[i**3 for in numbers]"
   ]
  },
  {
   "cell_type": "code",
   "execution_count": null,
   "metadata": {},
   "outputs": [],
   "source": []
  }
 ],
 "metadata": {
  "kernelspec": {
   "display_name": "base",
   "language": "python",
   "name": "python3"
  },
  "language_info": {
   "codemirror_mode": {
    "name": "ipython",
    "version": 3
   },
   "file_extension": ".py",
   "mimetype": "text/x-python",
   "name": "python",
   "nbconvert_exporter": "python",
   "pygments_lexer": "ipython3",
   "version": "3.10.9"
  },
  "orig_nbformat": 4
 },
 "nbformat": 4,
 "nbformat_minor": 2
}
