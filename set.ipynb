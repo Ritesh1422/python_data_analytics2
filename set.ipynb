{
 "cells": [
  {
   "cell_type": "code",
   "execution_count": 5,
   "metadata": {},
   "outputs": [
    {
     "name": "stdout",
     "output_type": "stream",
     "text": [
      "{1, 2, 3, 5, 6}\n"
     ]
    }
   ],
   "source": [
    "x={2,5,2,3,1,3,6,2,3}\n",
    "print(x)"
   ]
  },
  {
   "cell_type": "markdown",
   "metadata": {},
   "source": [
    "set \n",
    "    .create\n",
    "    .methods\n",
    "    .set operations\n",
    "    "
   ]
  },
  {
   "cell_type": "code",
   "execution_count": 8,
   "metadata": {},
   "outputs": [
    {
     "name": "stdout",
     "output_type": "stream",
     "text": [
      "set()\n",
      "{1, 2, 3}\n",
      "{1, 2, 3, 4, 5, 6, 8, 74, 12, 45, 48, 84, 21, 54}\n",
      "{'a', 'c', 'b'}\n"
     ]
    }
   ],
   "source": [
    "a=set() #emplty set\n",
    "b={1,2,3}\n",
    "c={1,2,4,5,2,2,3,1,3,1,2,1,2,12,21,54,48,45,84,5,74,8,6}\n",
    "print(a)\n",
    "print(b)\n",
    "print(c)\n",
    "d={'a','b','c'}\n",
    "print(d)"
   ]
  },
  {
   "cell_type": "code",
   "execution_count": 11,
   "metadata": {},
   "outputs": [
    {
     "name": "stdout",
     "output_type": "stream",
     "text": [
      "{1, 2, 3, 5, 6, 8, 74, 11, 12, 45, 48, 84, 21, 54}\n",
      "{1, 2, 3, 5, 6, 100, 8, 74, 11, 12, 45, 48, 84, 21, 54}\n",
      "{1, 2, 3, 5, 6, 8, 74, 11, 12, 45, 48, 84, 21, 54}\n",
      "{1, 2, 3, 5, 6, 8, 74, 11, 12, 45, 48, 84, 21, 54}\n"
     ]
    }
   ],
   "source": [
    "c.add(5)\n",
    "print(c)\n",
    "c.add(100)\n",
    "c.update([1,2,3,11,21])\n",
    "print(c)\n",
    "\n",
    "c.remove(100)\n",
    "print(c)\n",
    "c.discard(4)\n",
    "print(c)"
   ]
  },
  {
   "cell_type": "code",
   "execution_count": null,
   "metadata": {},
   "outputs": [],
   "source": []
  },
  {
   "cell_type": "code",
   "execution_count": null,
   "metadata": {},
   "outputs": [
    {
     "name": "stdout",
     "output_type": "stream",
     "text": [
      "{'apple', 'orange', 'pear'}\n"
     ]
    }
   ],
   "source": [
    "fruits={'apple','orange','apple','pear','orange','orange','apple'}\n",
    "print(fruits)"
   ]
  },
  {
   "cell_type": "code",
   "execution_count": null,
   "metadata": {},
   "outputs": [],
   "source": [
    "fruits.add('grape')\n",
    "\n"
   ]
  },
  {
   "cell_type": "code",
   "execution_count": null,
   "metadata": {},
   "outputs": [
    {
     "name": "stdout",
     "output_type": "stream",
     "text": [
      "{'apple', 'orange', 'grape', 'pear'}\n"
     ]
    }
   ],
   "source": [
    "print(fruits)"
   ]
  },
  {
   "cell_type": "code",
   "execution_count": null,
   "metadata": {},
   "outputs": [],
   "source": []
  }
 ],
 "metadata": {
  "kernelspec": {
   "display_name": "base",
   "language": "python",
   "name": "python3"
  },
  "language_info": {
   "codemirror_mode": {
    "name": "ipython",
    "version": 3
   },
   "file_extension": ".py",
   "mimetype": "text/x-python",
   "name": "python",
   "nbconvert_exporter": "python",
   "pygments_lexer": "ipython3",
   "version": "3.10.9"
  },
  "orig_nbformat": 4
 },
 "nbformat": 4,
 "nbformat_minor": 2
}
