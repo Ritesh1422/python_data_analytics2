{
 "cells": [
  {
   "cell_type": "code",
   "execution_count": 15,
   "metadata": {},
   "outputs": [
    {
     "name": "stdout",
     "output_type": "stream",
     "text": [
      "iphone12 apple 1000000 64\n",
      "iphone12,apple,1000000,64\n"
     ]
    }
   ],
   "source": [
    "class mobile:\n",
    "    def __init__(self,m,b,p,storage):\n",
    "        #print (\"constructor\")\n",
    "        self.model=m\n",
    "        self.brand=b\n",
    "        self.price=p\n",
    "        self.storage=storage\n",
    "    def __str__(self) -> str:\n",
    "        return f\"{self.model},{self.brand},{self.price},{self.storage}\"\n",
    "\n",
    "m1=mobile('iphone12','apple','1000000','64')\n",
    "print(m1.model,m1.brand,m1.price,m1.storage)\n",
    "print(m1)\n"
   ]
  },
  {
   "cell_type": "code",
   "execution_count": 11,
   "metadata": {},
   "outputs": [],
   "source": [
    "#data class -> special class in python\n",
    "from dataclasses import dataclass\n",
    "@dataclass\n",
    "class employee:\n",
    "    fname:str\n",
    "    lname:str\n",
    "    designation:str"
   ]
  },
  {
   "cell_type": "code",
   "execution_count": 13,
   "metadata": {},
   "outputs": [
    {
     "name": "stdout",
     "output_type": "stream",
     "text": [
      "employee(fname='marry', lname='jane', designation='developer')\n"
     ]
    }
   ],
   "source": [
    "e1=employee('jhon','smith','manager')\n",
    "e2=employee('marry','jane','developer')\n",
    "print(e2)"
   ]
  },
  {
   "cell_type": "code",
   "execution_count": 16,
   "metadata": {},
   "outputs": [],
   "source": [
    "#parent class\n",
    "class person:\n",
    "    def __init__(self,name,age):\n",
    "        self.name=name\n",
    "        self.age=age\n",
    "\n",
    "#child class -> inherits from parent class\n",
    "class student(person):\n",
    "    def __init__(self, name, age,klass,college):\n",
    "        super().__init__(name, age)\n",
    "        self.klass=klass\n",
    "        self.college=college\n",
    "class scholar(student):\n",
    "    def __init__(self, name, age, klass, college,research,guide):\n",
    "        super().__init__(name, age, klass, college) \n",
    "        self.research=research\n",
    "        self.guide=guide   "
   ]
  },
  {
   "cell_type": "code",
   "execution_count": 19,
   "metadata": {},
   "outputs": [],
   "source": [
    "p=person('john',36)\n",
    "s=student('marry',30,12,'abc college')\n",
    "sch=scholar('bob',25,10,'xyz college','ai','dr.x')"
   ]
  },
  {
   "cell_type": "code",
   "execution_count": 20,
   "metadata": {},
   "outputs": [
    {
     "name": "stdout",
     "output_type": "stream",
     "text": [
      "<class '__main__.student'>\n"
     ]
    }
   ],
   "source": [
    "print(student)"
   ]
  },
  {
   "cell_type": "code",
   "execution_count": 24,
   "metadata": {},
   "outputs": [
    {
     "data": {
      "text/plain": [
       "36"
      ]
     },
     "execution_count": 24,
     "metadata": {},
     "output_type": "execute_result"
    }
   ],
   "source": [
    "p.age"
   ]
  },
  {
   "cell_type": "code",
   "execution_count": 25,
   "metadata": {},
   "outputs": [
    {
     "data": {
      "text/plain": [
       "'john'"
      ]
     },
     "execution_count": 25,
     "metadata": {},
     "output_type": "execute_result"
    }
   ],
   "source": [
    "p.name\n"
   ]
  },
  {
   "cell_type": "code",
   "execution_count": 26,
   "metadata": {},
   "outputs": [
    {
     "data": {
      "text/plain": [
       "__main__.person"
      ]
     },
     "execution_count": 26,
     "metadata": {},
     "output_type": "execute_result"
    }
   ],
   "source": [
    "type(p)"
   ]
  },
  {
   "cell_type": "code",
   "execution_count": 27,
   "metadata": {},
   "outputs": [
    {
     "data": {
      "text/plain": [
       "__main__.scholar"
      ]
     },
     "execution_count": 27,
     "metadata": {},
     "output_type": "execute_result"
    }
   ],
   "source": [
    "type(sch)"
   ]
  },
  {
   "cell_type": "code",
   "execution_count": null,
   "metadata": {},
   "outputs": [],
   "source": []
  }
 ],
 "metadata": {
  "kernelspec": {
   "display_name": "base",
   "language": "python",
   "name": "python3"
  },
  "language_info": {
   "codemirror_mode": {
    "name": "ipython",
    "version": 3
   },
   "file_extension": ".py",
   "mimetype": "text/x-python",
   "name": "python",
   "nbconvert_exporter": "python",
   "pygments_lexer": "ipython3",
   "version": "3.10.9"
  }
 },
 "nbformat": 4,
 "nbformat_minor": 2
}
