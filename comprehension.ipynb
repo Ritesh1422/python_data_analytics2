{
 "cells": [
  {
   "cell_type": "markdown",
   "metadata": {},
   "source": [
    "comprehension in pyhton \n",
    "    -single "
   ]
  },
  {
   "cell_type": "markdown",
   "metadata": {},
   "source": [
    "syntax1:\n",
    "new_it=[operation for item in existing_it ]\n",
    "existing_it=[operation for item in existing_it if condition]"
   ]
  },
  {
   "cell_type": "code",
   "execution_count": 3,
   "metadata": {},
   "outputs": [
    {
     "name": "stdout",
     "output_type": "stream",
     "text": [
      "[1, 2, 3, 4]\n",
      "[1, 4, 9, 16]\n"
     ]
    }
   ],
   "source": [
    "#it is a normal program\n",
    "a=[1,2,3,4]\n",
    "a2=[]\n",
    "for i in a:\n",
    "    s=i**2\n",
    "    a2.append(s)\n",
    "print(a)\n",
    "print(a2)\n"
   ]
  },
  {
   "cell_type": "code",
   "execution_count": 6,
   "metadata": {},
   "outputs": [
    {
     "name": "stdout",
     "output_type": "stream",
     "text": [
      "[1, 4, 9, 16]\n"
     ]
    }
   ],
   "source": [
    "a2=[i**2 for i in a]\n",
    "print(a2)"
   ]
  },
  {
   "cell_type": "code",
   "execution_count": 7,
   "metadata": {},
   "outputs": [
    {
     "name": "stdout",
     "output_type": "stream",
     "text": [
      "['alex', 'susan', 'tom', 'jerry']\n",
      "['al', 'su', 'to', 'je']\n"
     ]
    }
   ],
   "source": [
    "names=['alex','susan','tom','jerry']\n",
    "shorts=[]\n",
    "for name in names:\n",
    "    shorts.append(name[:2])\n",
    "print(names)\n",
    "print(shorts)"
   ]
  },
  {
   "cell_type": "code",
   "execution_count": 16,
   "metadata": {},
   "outputs": [
    {
     "name": "stdout",
     "output_type": "stream",
     "text": [
      "['al', 'su', 'to', 'je']\n"
     ]
    }
   ],
   "source": [
    "shorts=[name[:2] for name in names]\n",
    "print(shorts)"
   ]
  },
  {
   "cell_type": "code",
   "execution_count": 48,
   "metadata": {},
   "outputs": [
    {
     "name": "stdout",
     "output_type": "stream",
     "text": [
      "[2, -6, -6, -5, -8, -5, -4]\n",
      "[12, 4, 4, 5, 2, 5, 6]\n",
      "[12, 4, 4, 2, 6]\n"
     ]
    }
   ],
   "source": [
    "numbers=[12,4,4,5,2,5,6]\n",
    "new=[num-10 for num in numbers]\n",
    "print(new)\n",
    "\n",
    "evens = [n for n in numbers if n%2 == 0]\n",
    "print(numbers)\n",
    "print(evens)\n"
   ]
  },
  {
   "cell_type": "code",
   "execution_count": 24,
   "metadata": {},
   "outputs": [
    {
     "name": "stdout",
     "output_type": "stream",
     "text": [
      "['raman', 'sita', 'gita', 'hari', 'rahul', 'sohan']\n",
      "['sita', 'gita', 'hari']\n"
     ]
    }
   ],
   "source": [
    "guests=['raman','sita','gita','hari','rahul','sohan']\n",
    "guest_with_i=[name for name in guests if 'i' in name.lower()]\n",
    "print(guests)\n",
    "print(guest_with_i)"
   ]
  },
  {
   "cell_type": "code",
   "execution_count": 25,
   "metadata": {},
   "outputs": [
    {
     "name": "stdout",
     "output_type": "stream",
     "text": [
      "{1, 2, 3}\n",
      "{1, 4, 9}\n"
     ]
    }
   ],
   "source": [
    "x={1,2,3}\n",
    "x2={i**2 for i in x}\n",
    "print(x)\n",
    "print(x2)"
   ]
  },
  {
   "cell_type": "code",
   "execution_count": 30,
   "metadata": {},
   "outputs": [
    {
     "name": "stdout",
     "output_type": "stream",
     "text": [
      "{'A': 'APPLE', 'B': 'BANANA', 'C': 'CHERRY'}\n"
     ]
    }
   ],
   "source": [
    "#dictionary comprehension \n",
    "x={'a':'apple','b':'banana','c':'cherry'}\n",
    "x2={k.upper():v.upper() for k,v in x.items()}\n",
    "print(x2)"
   ]
  },
  {
   "cell_type": "code",
   "execution_count": 33,
   "metadata": {},
   "outputs": [
    {
     "name": "stdout",
     "output_type": "stream",
     "text": [
      "[13, 2, 1, 2, 5, 6, 5, 122, 3, 23, 2, 2]\n",
      "{0: 13, 1: 2, 2: 1, 3: 2, 4: 5, 5: 6, 6: 5, 7: 122, 8: 3, 9: 23, 10: 2, 11: 2}\n"
     ]
    }
   ],
   "source": [
    "#list to dictionary\n",
    "x=[13,2,1,2,5,6,5,122,3,23,2,2]\n",
    "x_d={i:v for i,v in enumerate (x)}\n",
    "print(x)\n",
    "print(x_d)\n"
   ]
  },
  {
   "cell_type": "code",
   "execution_count": 35,
   "metadata": {},
   "outputs": [
    {
     "name": "stdout",
     "output_type": "stream",
     "text": [
      "['a', 'b', 'c', 'd', 'e', 'f', 'g']\n",
      "{13: 'a', 23: 'b', 11: 'c', 22: 'd', 35: 'e'}\n"
     ]
    }
   ],
   "source": [
    "y=[13,23,11,22,35]\n",
    "x=['a','b','c','d','e','f','g']\n",
    "xd={i2:i1 for i1,i2 in zip (x,y)} \n",
    "print(x)\n",
    "print(xd)"
   ]
  },
  {
   "cell_type": "code",
   "execution_count": 41,
   "metadata": {},
   "outputs": [
    {
     "data": {
      "text/plain": [
       "[1, 4, 9]"
      ]
     },
     "execution_count": 41,
     "metadata": {},
     "output_type": "execute_result"
    }
   ],
   "source": [
    "x=(1,2,3)\n",
    "x2=(i**2 for i in x)\n",
    "\n",
    "list(x2)\n"
   ]
  },
  {
   "cell_type": "code",
   "execution_count": 42,
   "metadata": {},
   "outputs": [
    {
     "data": {
      "text/plain": [
       "[1, 3, 5, 7, 9, 11, 13, 15, 17, 19]"
      ]
     },
     "execution_count": 42,
     "metadata": {},
     "output_type": "execute_result"
    }
   ],
   "source": [
    "list(range(1,20,2))"
   ]
  },
  {
   "cell_type": "code",
   "execution_count": 44,
   "metadata": {},
   "outputs": [
    {
     "data": {
      "text/plain": [
       "(1, 3, 5, 7, 9, 11, 13, 15, 17, 19)"
      ]
     },
     "execution_count": 44,
     "metadata": {},
     "output_type": "execute_result"
    }
   ],
   "source": [
    "tuple(range(1,20,2))"
   ]
  },
  {
   "cell_type": "code",
   "execution_count": 46,
   "metadata": {},
   "outputs": [
    {
     "name": "stdout",
     "output_type": "stream",
     "text": [
      "[12, 4, 1, 4, 5, 2, 5, 6]\n",
      "[12, 4, 4, 2, 6]\n"
     ]
    }
   ],
   "source": [
    "numbers = [12,4,1,4,5,2,5,6]\n"
   ]
  },
  {
   "cell_type": "code",
   "execution_count": null,
   "metadata": {},
   "outputs": [],
   "source": []
  }
 ],
 "metadata": {
  "kernelspec": {
   "display_name": "base",
   "language": "python",
   "name": "python3"
  },
  "language_info": {
   "codemirror_mode": {
    "name": "ipython",
    "version": 3
   },
   "file_extension": ".py",
   "mimetype": "text/x-python",
   "name": "python",
   "nbconvert_exporter": "python",
   "pygments_lexer": "ipython3",
   "version": "3.10.9"
  }
 },
 "nbformat": 4,
 "nbformat_minor": 2
}
