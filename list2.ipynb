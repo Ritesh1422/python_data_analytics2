{
 "cells": [
  {
   "cell_type": "code",
   "execution_count": 44,
   "metadata": {},
   "outputs": [
    {
     "name": "stdout",
     "output_type": "stream",
     "text": [
      "[]\n"
     ]
    }
   ],
   "source": [
    "a=[]\n",
    "print(a)"
   ]
  },
  {
   "cell_type": "code",
   "execution_count": 45,
   "metadata": {},
   "outputs": [
    {
     "name": "stdout",
     "output_type": "stream",
     "text": [
      "[]\n",
      "[1, 2, 3, 4, 5]\n",
      "['alpha', 'beta', 'gamma']\n",
      "['arun', 100, 'varun', 150, 'tarun', '200']\n",
      "[[1, 2, 3], [2, 3, 4, 5]]\n",
      "[1, 2, 3]\n",
      "[[1, 2, 3], [1, 2, 3], [1, 2, 3]]\n"
     ]
    }
   ],
   "source": [
    "b=[1,2,3,4,5,]\n",
    "c=['alpha','beta','gamma']\n",
    "d=['arun',100,'varun',150,'tarun','200']\n",
    "e=[[1,2,3],[2,3,4,5]]\n",
    "f=[1,2,3]\n",
    "g=[f,f,f,]\n",
    "h=[2]*10\n",
    "print(a)\n",
    "print(b)\n",
    "print(c)\n",
    "print(d)\n",
    "print(e)\n",
    "print(f)\n",
    "print(g)\n",
    "#print(f)"
   ]
  },
  {
   "cell_type": "code",
   "execution_count": 46,
   "metadata": {},
   "outputs": [
    {
     "name": "stdout",
     "output_type": "stream",
     "text": [
      "first three [12, 34, 2]\n",
      "last three [1, 2, 56]\n",
      "all content except first 2 and last 2 [2, 1, 35, 67, 1]\n",
      "reverse [56, 2, 1, 67, 35, 1, 2, 34, 12]\n",
      "even indexd item [12, 2, 35, 1, 56]\n"
     ]
    }
   ],
   "source": [
    "nums=[12,34,2,1,35,67,1,2,56]\n",
    "print('first three',nums[:3])\n",
    "print('last three',nums[-3:])\n",
    "print('all content except first 2 and last 2',nums[2:-2])\n",
    "print('reverse',nums[::-1])\n",
    "print('even indexd item',nums[::2])"
   ]
  },
  {
   "cell_type": "code",
   "execution_count": 47,
   "metadata": {},
   "outputs": [
    {
     "name": "stdout",
     "output_type": "stream",
     "text": [
      "[120, 34, 2, 1, 35, 67, 1, 2, 56]\n",
      "[120, 34, 2, 1, 35, 67, 1, 2, 20]\n"
     ]
    }
   ],
   "source": [
    "nums[0]=120\n",
    "print(nums)\n",
    "nums[-1]=20\n",
    "print(nums)"
   ]
  },
  {
   "cell_type": "code",
   "execution_count": 48,
   "metadata": {},
   "outputs": [
    {
     "name": "stdout",
     "output_type": "stream",
     "text": [
      "arun\n",
      "100\n",
      "varun\n",
      "150\n",
      "tarun\n",
      "200\n"
     ]
    }
   ],
   "source": [
    "for i in d:\n",
    "    print(i)\n",
    "    "
   ]
  },
  {
   "cell_type": "code",
   "execution_count": 49,
   "metadata": {},
   "outputs": [
    {
     "name": "stdout",
     "output_type": "stream",
     "text": [
      "arun is string\n",
      "100 is integr\n",
      "varun is string\n",
      "150 is integr\n",
      "tarun is string\n",
      "200 is string\n"
     ]
    }
   ],
   "source": [
    " \n",
    "for i in d:\n",
    "    if isinstance(i,str):\n",
    "        print(i,'is string')\n",
    "    elif isinstance(i,int):\n",
    "        print(i,\"is integr\")\n",
    "    else: \n",
    "         print('unknown')       "
   ]
  },
  {
   "cell_type": "code",
   "execution_count": 50,
   "metadata": {},
   "outputs": [
    {
     "name": "stdout",
     "output_type": "stream",
     "text": [
      "['red', 'orange', 'pink', 'orange']\n"
     ]
    }
   ],
   "source": [
    "colors=[]\n",
    "colors.append('red')\n",
    "colors.append('orange')\n",
    "colors.append('pink')\n",
    "colors.append('orange')\n",
    "print(colors)\n"
   ]
  },
  {
   "cell_type": "code",
   "execution_count": 51,
   "metadata": {},
   "outputs": [
    {
     "name": "stdout",
     "output_type": "stream",
     "text": [
      "['red', 'orange', 'pink', 'orange']\n"
     ]
    }
   ],
   "source": [
    "print(colors)"
   ]
  },
  {
   "cell_type": "code",
   "execution_count": 52,
   "metadata": {},
   "outputs": [],
   "source": [
    "colors.append('red')\n",
    "colors.append('orange')\n",
    "colors.append('pink')\n",
    "colors.append('orange')"
   ]
  },
  {
   "cell_type": "code",
   "execution_count": 53,
   "metadata": {},
   "outputs": [
    {
     "name": "stdout",
     "output_type": "stream",
     "text": [
      "['red', 'orange', 'pink', 'orange', 'red', 'orange', 'pink', 'orange']\n"
     ]
    }
   ],
   "source": [
    "print(colors)"
   ]
  },
  {
   "cell_type": "code",
   "execution_count": 54,
   "metadata": {},
   "outputs": [
    {
     "data": {
      "text/plain": [
       "['white', 'red', 'orange', 'pink', 'orange', 'red', 'orange', 'pink', 'orange']"
      ]
     },
     "execution_count": 54,
     "metadata": {},
     "output_type": "execute_result"
    }
   ],
   "source": [
    "colors.insert(0,'white')\n",
    "colors\n"
   ]
  },
  {
   "cell_type": "code",
   "execution_count": 55,
   "metadata": {},
   "outputs": [
    {
     "name": "stdout",
     "output_type": "stream",
     "text": [
      "[1, 2, 3, 4, 1, 2, 5, 6, 7, 8]\n"
     ]
    }
   ],
   "source": [
    "x=[1,2,3,4]\n",
    "y=[1,2,5,6,7,8]\n",
    "x.extend(y)\n",
    "print(x)"
   ]
  },
  {
   "cell_type": "code",
   "execution_count": 56,
   "metadata": {},
   "outputs": [
    {
     "name": "stdout",
     "output_type": "stream",
     "text": [
      "<built-in method sort of list object at 0x000001AD6A96BD80>\n"
     ]
    }
   ],
   "source": [
    "\n",
    "print((x.sort))"
   ]
  },
  {
   "cell_type": "code",
   "execution_count": 58,
   "metadata": {},
   "outputs": [
    {
     "data": {
      "text/plain": [
       "['white', 'orange', 'pink', 'orange', 'red', 'orange', 'pink', 'orange']"
      ]
     },
     "execution_count": 58,
     "metadata": {},
     "output_type": "execute_result"
    }
   ],
   "source": [
    "colors.remove('red')\n",
    "colors"
   ]
  },
  {
   "cell_type": "code",
   "execution_count": null,
   "metadata": {},
   "outputs": [],
   "source": []
  }
 ],
 "metadata": {
  "kernelspec": {
   "display_name": "base",
   "language": "python",
   "name": "python3"
  },
  "language_info": {
   "codemirror_mode": {
    "name": "ipython",
    "version": 3
   },
   "file_extension": ".py",
   "mimetype": "text/x-python",
   "name": "python",
   "nbconvert_exporter": "python",
   "pygments_lexer": "ipython3",
   "version": "3.10.9"
  }
 },
 "nbformat": 4,
 "nbformat_minor": 2
}
