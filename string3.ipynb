{
 "cells": [
  {
   "cell_type": "markdown",
   "metadata": {},
   "source": [
    "string operations\n",
    "    1 find\n",
    "    2 replace \n",
    "    3 split\n",
    "    4 join\n",
    "    5 strip\n",
    "    6 count\n",
    "    7 removeprefix\n",
    "    8 removeduffix\n",
    "    "
   ]
  },
  {
   "cell_type": "markdown",
   "metadata": {},
   "source": [
    "msg=\"a very normal massage\""
   ]
  },
  {
   "cell_type": "code",
   "execution_count": 1,
   "metadata": {},
   "outputs": [],
   "source": [
    "msg=\"a very normal massage in a very normal world\""
   ]
  },
  {
   "cell_type": "code",
   "execution_count": 21,
   "metadata": {},
   "outputs": [
    {
     "name": "stdout",
     "output_type": "stream",
     "text": [
      "14\n",
      "7\n",
      "32\n",
      "32\n"
     ]
    }
   ],
   "source": [
    "print(msg.find('mass'))\n",
    "\n",
    "print(msg.find('normal'))\n",
    "print(msg.find('normal',8))\n",
    "print(msg.find('normal',8,40))\n"
   ]
  },
  {
   "cell_type": "code",
   "execution_count": 22,
   "metadata": {},
   "outputs": [
    {
     "name": "stdout",
     "output_type": "stream",
     "text": [
      "a very urgent massage in a very urgent world\n"
     ]
    }
   ],
   "source": [
    "print(msg.replace('normal','urgent'))"
   ]
  },
  {
   "cell_type": "code",
   "execution_count": 27,
   "metadata": {},
   "outputs": [
    {
     "name": "stdout",
     "output_type": "stream",
     "text": [
      "apple very normapplel mapplessapplege in apple very normapplel world\n",
      "a very urgent massage in a very normal world\n"
     ]
    }
   ],
   "source": [
    "print(msg.replace('a','apple'))\n",
    "print(msg.replace('normal','urgent',1))"
   ]
  },
  {
   "cell_type": "code",
   "execution_count": 35,
   "metadata": {},
   "outputs": [
    {
     "name": "stdout",
     "output_type": "stream",
     "text": [
      "a very urgent massage in a very normal city\n"
     ]
    }
   ],
   "source": [
    "print((msg.replace('normal','urgent',1)).replace('world','city'))"
   ]
  },
  {
   "cell_type": "code",
   "execution_count": 37,
   "metadata": {},
   "outputs": [],
   "source": [
    "path=[\"C\",'users','lenevo','documents','secretfile.text']"
   ]
  },
  {
   "cell_type": "code",
   "execution_count": 42,
   "metadata": {},
   "outputs": [
    {
     "name": "stdout",
     "output_type": "stream",
     "text": [
      "C_users_lenevo_documents_secretfile.text\n",
      "C users lenevo documents secretfile.text\n",
      "C/users/lenevo/documents/secretfile.text\n",
      "C-users-lenevo-documents-secretfile.text\n"
     ]
    },
    {
     "data": {
      "text/plain": [
       "'C-x-users-x-lenevo-x-documents-x-secretfile.text'"
      ]
     },
     "execution_count": 42,
     "metadata": {},
     "output_type": "execute_result"
    }
   ],
   "source": [
    "print(\"_\".join(path))\n",
    "print(\" \".join(path))\n",
    "print(\"/\".join(path))\n",
    "print(\"-\".join(path))\n",
    "gs='-x-'\n",
    "gs.join(path)"
   ]
  },
  {
   "cell_type": "code",
   "execution_count": 43,
   "metadata": {},
   "outputs": [],
   "source": [
    "kachra=\"   hello world  \"\n",
    "clean_s=kachra.strip()"
   ]
  },
  {
   "cell_type": "code",
   "execution_count": 45,
   "metadata": {},
   "outputs": [
    {
     "name": "stdout",
     "output_type": "stream",
     "text": [
      "16\n",
      "11\n"
     ]
    }
   ],
   "source": [
    "print(len(kachra))\n",
    "print(len(clean_s))"
   ]
  },
  {
   "cell_type": "code",
   "execution_count": 50,
   "metadata": {},
   "outputs": [
    {
     "name": "stdout",
     "output_type": "stream",
     "text": [
      "18\n",
      "my content here\n",
      "15\n"
     ]
    }
   ],
   "source": [
    "a='''\n",
    "my content here\n",
    "\n",
    "'''\n",
    "print(len(a))\n",
    "print(a.strip())\n",
    "#print(a(len.strip()))\n",
    "print(len(a.strip()))"
   ]
  },
  {
   "cell_type": "code",
   "execution_count": null,
   "metadata": {},
   "outputs": [],
   "source": []
  }
 ],
 "metadata": {
  "kernelspec": {
   "display_name": "base",
   "language": "python",
   "name": "python3"
  },
  "language_info": {
   "codemirror_mode": {
    "name": "ipython",
    "version": 3
   },
   "file_extension": ".py",
   "mimetype": "text/x-python",
   "name": "python",
   "nbconvert_exporter": "python",
   "pygments_lexer": "ipython3",
   "version": "3.10.9"
  }
 },
 "nbformat": 4,
 "nbformat_minor": 2
}
