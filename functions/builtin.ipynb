{
 "cells": [
  {
   "cell_type": "code",
   "execution_count": 1,
   "metadata": {},
   "outputs": [
    {
     "name": "stdout",
     "output_type": "stream",
     "text": [
      "your equation is 15\n",
      "15\n"
     ]
    }
   ],
   "source": [
    "x=10\n",
    "y=3\n",
    "expression=input(\"enter your equation using x and y:\")\n",
    "print(\"your equation is\",expression)\n",
    "print(eval(expression))"
   ]
  },
  {
   "cell_type": "code",
   "execution_count": 7,
   "metadata": {},
   "outputs": [
    {
     "name": "stdout",
     "output_type": "stream",
     "text": [
      "False\n",
      "False\n"
     ]
    }
   ],
   "source": [
    "x=[1,2,3,4,5,6]\n",
    "y=[1,2,3,4,5,0]\n",
    "z=[0,0,0,0,0,0]\n",
    "a=[0,0,0,0,0,1]\n",
    "#print(all(x))\n",
    "#print(all(y))\n",
    "print(all(z))\n",
    "print(any(z))\n",
    "#print(any(a))\n",
    "#print(any(x))"
   ]
  },
  {
   "cell_type": "code",
   "execution_count": 6,
   "metadata": {},
   "outputs": [
    {
     "name": "stdout",
     "output_type": "stream",
     "text": [
      "False False True True True\n"
     ]
    }
   ],
   "source": [
    "print(bool(0),bool(\"\"),bool('asd'),bool(-1),bool(120))"
   ]
  },
  {
   "cell_type": "markdown",
   "metadata": {},
   "source": [
    "#open\n",
    "file handling with open()\n",
    "    read\n",
    "    write\n",
    "    append\n",
    "    "
   ]
  },
  {
   "cell_type": "code",
   "execution_count": 16,
   "metadata": {},
   "outputs": [
    {
     "name": "stdout",
     "output_type": "stream",
     "text": [
      "<_io.TextIOWrapper name='../dummy.txt' mode='r' encoding='UTF-8'>\n"
     ]
    },
    {
     "data": {
      "text/plain": [
       "'hello this is dummy text file\\n\\nhello\\n\\n\\n\\nhello'"
      ]
     },
     "execution_count": 16,
     "metadata": {},
     "output_type": "execute_result"
    }
   ],
   "source": [
    "file=open('../dummy.txt')\n",
    "print(file)\n"
   ]
  },
  {
   "cell_type": "code",
   "execution_count": 18,
   "metadata": {},
   "outputs": [
    {
     "data": {
      "text/plain": [
       "''"
      ]
     },
     "execution_count": 18,
     "metadata": {},
     "output_type": "execute_result"
    }
   ],
   "source": [
    "file.read()"
   ]
  },
  {
   "cell_type": "code",
   "execution_count": 24,
   "metadata": {},
   "outputs": [
    {
     "name": "stdout",
     "output_type": "stream",
     "text": [
      "hello this is dummy text file\n",
      "\n",
      "hello\n",
      "\n",
      "\n",
      "\n",
      "hello\n"
     ]
    }
   ],
   "source": [
    "with open('../dummy.txt') as file:\n",
    "    print(file.read())"
   ]
  },
  {
   "cell_type": "code",
   "execution_count": null,
   "metadata": {},
   "outputs": [],
   "source": [
    "with open('builtin.ipynb') as file:\n",
    "    print(file.read())"
   ]
  },
  {
   "cell_type": "code",
   "execution_count": 32,
   "metadata": {},
   "outputs": [
    {
     "name": "stdout",
     "output_type": "stream",
     "text": [
      "['hello', 'this', 'is', 'dummy', 'text', 'file', 'hello', 'hello']\n"
     ]
    }
   ],
   "source": [
    "with open ('../dummy.txt') as file:\n",
    "    content=file.read()\n",
    "print(content.split())"
   ]
  },
  {
   "cell_type": "code",
   "execution_count": 42,
   "metadata": {},
   "outputs": [
    {
     "name": "stdout",
     "output_type": "stream",
     "text": [
      "jfknjkbksdjjkbsdkjbkjdsbjkdbs\n"
     ]
    }
   ],
   "source": [
    "path=r'C:\\Users\\rites\\OneDrive\\Desktop\\kuchbhi.txt'\n",
    "with open(path) as f:\n",
    "    print(f.read())"
   ]
  },
  {
   "cell_type": "code",
   "execution_count": 47,
   "metadata": {},
   "outputs": [],
   "source": [
    "meri_kahani ='''once upone a time \n",
    "there is a person\n",
    "to be continued...'''\n",
    "with open('kahnai.txt','w') as f:\n",
    "        f.write(meri_kahani)"
   ]
  },
  {
   "cell_type": "code",
   "execution_count": 51,
   "metadata": {},
   "outputs": [
    {
     "name": "stdout",
     "output_type": "stream",
     "text": [
      "file saved\n"
     ]
    }
   ],
   "source": [
    "dusri_kahani='''ek samay ki baat hai hello hello '''\n",
    "addr='d:/dusri_kahani.txt'\n",
    "with open(addr,'w')as f:\n",
    "    f.write(dusri_kahani)\n",
    "    print(\"file saved\") "
   ]
  },
  {
   "cell_type": "code",
   "execution_count": 53,
   "metadata": {},
   "outputs": [
    {
     "name": "stdout",
     "output_type": "stream",
     "text": [
      "file updated\n"
     ]
    }
   ],
   "source": [
    "user_ka_data=input(\"enter your story:\")\n",
    "with open(addr,'a')as f:\n",
    "    f.write(\"\\n\"+user_ka_data)\n",
    "    print(\"file updated\") "
   ]
  },
  {
   "cell_type": "code",
   "execution_count": null,
   "metadata": {},
   "outputs": [],
   "source": []
  }
 ],
 "metadata": {
  "kernelspec": {
   "display_name": "base",
   "language": "python",
   "name": "python3"
  },
  "language_info": {
   "codemirror_mode": {
    "name": "ipython",
    "version": 3
   },
   "file_extension": ".py",
   "mimetype": "text/x-python",
   "name": "python",
   "nbconvert_exporter": "python",
   "pygments_lexer": "ipython3",
   "version": "3.10.9"
  }
 },
 "nbformat": 4,
 "nbformat_minor": 2
}
