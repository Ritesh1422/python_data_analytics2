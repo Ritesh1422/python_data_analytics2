{
 "cells": [
  {
   "cell_type": "code",
   "execution_count": 25,
   "metadata": {},
   "outputs": [],
   "source": [
    "class cat:\n",
    "    def __init__(self,breed,age,color='black') -> None:\n",
    "        print('cat created')\n",
    "        print(f'breed:{breed}')\n",
    "        print(f'age:{age}')\n",
    "        print(f'color{color}')\n",
    "\n"
   ]
  },
  {
   "cell_type": "code",
   "execution_count": 26,
   "metadata": {},
   "outputs": [
    {
     "name": "stdout",
     "output_type": "stream",
     "text": [
      "cat created\n",
      "breed:street cat\n",
      "age:5\n",
      "colorblack\n",
      "cat created\n",
      "breed:persian\n",
      "age:2\n",
      "colorwhite\n",
      "cat created\n",
      "breed:egeption\n",
      "age:1\n",
      "colorred\n",
      "cat created\n",
      "breed:bengal\n",
      "age:7\n",
      "coloryellow\n"
     ]
    }
   ],
   "source": [
    "billu =cat('street cat',5,)\n",
    "sheru =cat('persian',2,'white')\n",
    "alice =cat('egeption',1,'red')\n",
    "tiger =cat('bengal',7,'yellow')\n",
    "#print(billu.breed)\n"
   ]
  },
  {
   "cell_type": "code",
   "execution_count": 27,
   "metadata": {},
   "outputs": [],
   "source": [
    "class cat:\n",
    "    def __init__(self,breed,age,color='black') -> None:\n",
    "        self.breed=breed\n",
    "        self.age=age\n",
    "        self.color=color\n",
    "        "
   ]
  },
  {
   "cell_type": "code",
   "execution_count": 28,
   "metadata": {},
   "outputs": [],
   "source": [
    "billu =cat('street cat',5,)\n",
    "sheru =cat('persian',2,'white')\n",
    "alice =cat('egeption',1,'red')\n",
    "tiger =cat('bengal',7,'yellow')\n",
    "#print(billu.breed)\n"
   ]
  },
  {
   "cell_type": "code",
   "execution_count": null,
   "metadata": {},
   "outputs": [],
   "source": []
  }
 ],
 "metadata": {
  "kernelspec": {
   "display_name": "base",
   "language": "python",
   "name": "python3"
  },
  "language_info": {
   "codemirror_mode": {
    "name": "ipython",
    "version": 3
   },
   "file_extension": ".py",
   "mimetype": "text/x-python",
   "name": "python",
   "nbconvert_exporter": "python",
   "pygments_lexer": "ipython3",
   "version": "3.10.9"
  },
  "orig_nbformat": 4
 },
 "nbformat": 4,
 "nbformat_minor": 2
}
